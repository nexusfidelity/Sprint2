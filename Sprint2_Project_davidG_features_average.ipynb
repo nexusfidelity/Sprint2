{
 "cells": [
  {
   "cell_type": "markdown",
   "metadata": {},
   "source": [
    "# Sprint 2 Project\n",
    "\n",
    "### Creating your own recommender engine pool and generating recommendations from a seed track"
   ]
  },
  {
   "cell_type": "markdown",
   "metadata": {},
   "source": [
    "*A. Individual*\n",
    "1. Choose your own set of genres to be used as prediction values of the KNN model. You may select among the ones listed above or a completely new one (but you must already have the scraped playlist and tracks data for this new genre) \n",
    "\n",
    "2. Choose the features you want to use for the classification. Start by using all and then narrow down by removing one feature at a time and checking if the accuracy increases.\n",
    "\n",
    "3. Check if the model works by using it to predict genres of the spotify_daily_charts_tracks dataset. Do some spot checks and view the songs classified with the highest probabilities per genre\n",
    "\n",
    "\n",
    "*B. Groupwork: For your sprint project*\n",
    "\n",
    "4. Obtain a tracks dataset that is relevant to the client you are targeting. \n",
    "   For example:\n",
    "   \n",
    "    - A client artist's full discography (hint: use sp.playlist_tracks(ALBUM_ID) for every album of the artist)\n",
    "    \n",
    "    - Tracks from a popular playlist in spotify that your client artist appears in\n",
    "    \n",
    "    - Discographies of prospect artists to collaborate with \n",
    "    \n",
    "    - Popular tracks of the genre that your client artist is targeting to enter\n",
    "    \n",
    "    \n",
    "5. Using the model you tuned in (A), predict the genres of the tracks in (B.4). \n",
    "\n",
    "6. Do some spot checks and view the songs classified with the highest probabilities per genre. \n",
    "   What does the predicted classifications reveal about your tracks dataset?\n",
    "   \n",
    "*C. Groupwork: For your sprint project*\n",
    "\n",
    "7. Explore different seed tracks configurations:\n",
    "    - A single track\n",
    "    - A *representative track* made by aggregating the audio features and genre probabilities of all tracks in a chosen album/genre\n",
    "    - A *hypothetical track* with specified desired audio feature values\n",
    "    \n",
    "8. For each choice of seed track in, generate using the recommender engine pool you made in (A). As a user, would you listen to the recommended tracks?\n",
    "\n",
    "9. In addition to (2), check if the top 10 tracks with the **worst** similarity measure (i.e. most dissimilar to the seed track) make sense. As a user, do you agree that these are the tracks to be first discarded from the recommendation pool?\n",
    "\n"
   ]
  },
  {
   "cell_type": "code",
   "execution_count": 1,
   "metadata": {
    "ExecuteTime": {
     "end_time": "2021-01-21T15:12:52.278399Z",
     "start_time": "2021-01-21T15:12:46.980742Z"
    }
   },
   "outputs": [],
   "source": [
    "import pandas as pd\n",
    "import numpy as np\n",
    "\n",
    "import seaborn as sns\n",
    "import matplotlib.pyplot as plt\n",
    "\n",
    "\n",
    "from sklearn.model_selection import train_test_split, cross_val_score\n",
    "from sklearn.neighbors import KNeighborsClassifier \n",
    "from sklearn.metrics import accuracy_score,roc_curve, auc, confusion_matrix, classification_report\n",
    "from sklearn.metrics.pairwise import euclidean_distances, manhattan_distances, cosine_similarity\n",
    "\n",
    "from sklearn.preprocessing import MinMaxScaler\n",
    "scaler = MinMaxScaler()\n",
    "\n",
    "%matplotlib inline"
   ]
  },
  {
   "cell_type": "markdown",
   "metadata": {},
   "source": [
    "## Part 1. Recommender Engine Pool"
   ]
  },
  {
   "cell_type": "markdown",
   "metadata": {},
   "source": [
    "### 1. Read the training data"
   ]
  },
  {
   "cell_type": "code",
   "execution_count": 2,
   "metadata": {
    "ExecuteTime": {
     "end_time": "2021-01-21T15:12:52.636973Z",
     "start_time": "2021-01-21T15:12:52.282149Z"
    }
   },
   "outputs": [
    {
     "name": "stdout",
     "output_type": "stream",
     "text": [
      "Rap\n",
      "Rock\n",
      "Jazz\n",
      "EDM\n"
     ]
    }
   ],
   "source": [
    "#genre_names = [\"R&B\", \"Classical\", \"Country\", \"Electronic\", \"Hiphop\",\"Jazz\", \"Pop\", \"Rock\", \"Reggae\", \"Rap\"]\r\n",
    "genre_names = [\"Rap\",\"Rock\",\"Jazz\",\"EDM\"]\r\n",
    "\r\n",
    "playlist_df_list = []\r\n",
    "track_df_list = []\r\n",
    "for genre in genre_names:\r\n",
    "    # read and process the playlist data for keyword\r\n",
    "    print(genre)\r\n",
    "    pdf = pd.read_csv('data/'+genre.lower()+'_playlist_data.csv')\r\n",
    "    pdf['genre'] = genre.lower().replace('&','n')\r\n",
    "    playlist_df_list.append(pdf)\r\n",
    "\r\n",
    "    tdf = pd.read_csv('data/'+genre.lower()+'_playlist_tracks_data.csv')\r\n",
    "    tdf['genre'] = genre.lower().replace('&','n')\r\n",
    "    tdf = tdf.drop(columns=['playlist_name'])\r\n",
    "    tdf = tdf.merge(pdf[['playlist_id','playlist_name']], on=['playlist_id'], how='left')\r\n",
    "    \r\n",
    "    track_df_list.append(tdf)\r\n",
    "    \r\n",
    "    \r\n",
    "        \r\n",
    "playlist_df = pd.concat(playlist_df_list)\r\n",
    "tracks_df = pd.concat(track_df_list)\r\n"
   ]
  },
  {
   "cell_type": "code",
   "execution_count": 3,
   "metadata": {
    "ExecuteTime": {
     "end_time": "2021-01-21T15:12:52.656009Z",
     "start_time": "2021-01-21T15:12:52.643350Z"
    }
   },
   "outputs": [
    {
     "data": {
      "text/plain": "edm     2386\njazz    1746\nrock    1605\nrap     1318\nName: genre, dtype: int64"
     },
     "execution_count": 3,
     "metadata": {},
     "output_type": "execute_result"
    }
   ],
   "source": [
    "tracks_df['genre'].value_counts()"
   ]
  },
  {
   "cell_type": "code",
   "execution_count": 4,
   "metadata": {},
   "outputs": [],
   "source": [
    "#tracks_df[tracks_df['genre']=='edm']"
   ]
  },
  {
   "cell_type": "code",
   "execution_count": 5,
   "metadata": {
    "ExecuteTime": {
     "end_time": "2021-01-21T15:12:52.673219Z",
     "start_time": "2021-01-21T15:12:52.666973Z"
    }
   },
   "outputs": [
    {
     "name": "stdout",
     "output_type": "stream",
     "text": [
      "Playlist dataset columns: ['playlist_id' 'playlist_name' 'playlist_total_tracks' 'owner_id'\n",
      " 'owner_name' 'total_followers' 'genre'] \n",
      "\n",
      "Tracks dataset columns: ['track_id' 'track_name' 'artist_id' 'artist_name' 'album_id' 'duration'\n",
      " 'release_date' 'popularity' 'danceability' 'energy' 'key' 'loudness'\n",
      " 'mode' 'speechiness' 'acousticness' 'instrumentalness' 'liveness'\n",
      " 'valence' 'tempo' 'playlist_id' 'genre' 'playlist_name']\n"
     ]
    }
   ],
   "source": [
    "#check columns\n",
    "print(\"Playlist dataset columns: %s \\n\" % playlist_df.columns.values)\n",
    "print(\"Tracks dataset columns: %s\" % tracks_df.columns.values)"
   ]
  },
  {
   "cell_type": "code",
   "execution_count": 6,
   "metadata": {
    "ExecuteTime": {
     "end_time": "2021-01-21T15:12:52.715839Z",
     "start_time": "2021-01-21T15:12:52.676094Z"
    }
   },
   "outputs": [],
   "source": [
    "#check null rows\n",
    "#playlist_df[playlist_df.isnull().any(1)]\n",
    "#tracks_df[tracks_df.isnull().any(1)]\n"
   ]
  },
  {
   "cell_type": "code",
   "execution_count": 7,
   "metadata": {
    "ExecuteTime": {
     "end_time": "2021-01-21T15:12:52.754172Z",
     "start_time": "2021-01-21T15:12:52.721035Z"
    }
   },
   "outputs": [],
   "source": [
    "#remove null rows\n",
    "#tracks_df = tracks_df[~tracks_df.isnull().any(1)]\n"
   ]
  },
  {
   "cell_type": "code",
   "execution_count": 8,
   "metadata": {
    "ExecuteTime": {
     "end_time": "2021-01-21T15:12:52.791899Z",
     "start_time": "2021-01-21T15:12:52.773111Z"
    }
   },
   "outputs": [],
   "source": [
    "#retain only distinct tracks per keyword\n",
    "tracks_df =tracks_df.drop_duplicates(subset='track_id')\n"
   ]
  },
  {
   "cell_type": "code",
   "execution_count": 9,
   "metadata": {
    "ExecuteTime": {
     "end_time": "2021-01-21T15:12:53.671378Z",
     "start_time": "2021-01-21T15:12:53.327018Z"
    }
   },
   "outputs": [
    {
     "data": {
      "text/plain": "edm     0.346098\njazz    0.240644\nrock    0.222077\nrap     0.191181\nName: genre, dtype: float64"
     },
     "execution_count": 9,
     "metadata": {},
     "output_type": "execute_result"
    }
   ],
   "source": [
    "#tally of tracks\n",
    "#tracks_df['genre'].value_counts()\n",
    "tracks_df['genre'].value_counts(normalize=True)"
   ]
  },
  {
   "cell_type": "markdown",
   "metadata": {},
   "source": [
    "### 2. Refine the training data"
   ]
  },
  {
   "cell_type": "code",
   "execution_count": 10,
   "metadata": {
    "ExecuteTime": {
     "end_time": "2021-01-21T15:12:53.688262Z",
     "start_time": "2021-01-21T15:12:53.673620Z"
    }
   },
   "outputs": [
    {
     "data": {
      "text/html": "<div>\n<style scoped>\n    .dataframe tbody tr th:only-of-type {\n        vertical-align: middle;\n    }\n\n    .dataframe tbody tr th {\n        vertical-align: top;\n    }\n\n    .dataframe thead th {\n        text-align: right;\n    }\n</style>\n<table border=\"1\" class=\"dataframe\">\n  <thead>\n    <tr style=\"text-align: right;\">\n      <th></th>\n      <th>playlist_id</th>\n      <th>playlist_name</th>\n      <th>playlist_total_tracks</th>\n      <th>owner_id</th>\n      <th>owner_name</th>\n      <th>total_followers</th>\n      <th>genre</th>\n    </tr>\n  </thead>\n  <tbody>\n    <tr>\n      <th>0</th>\n      <td>37i9dQZF1DX0XUsuxWHRQd</td>\n      <td>RapCaviar</td>\n      <td>50</td>\n      <td>spotify</td>\n      <td>Spotify</td>\n      <td>13588683</td>\n      <td>rap</td>\n    </tr>\n    <tr>\n      <th>1</th>\n      <td>37i9dQZF1DX76t638V6CA8</td>\n      <td>Rap Workout</td>\n      <td>59</td>\n      <td>spotify</td>\n      <td>Spotify</td>\n      <td>1263588</td>\n      <td>rap</td>\n    </tr>\n    <tr>\n      <th>2</th>\n      <td>37i9dQZF1DWSIvbYYt1Dvi</td>\n      <td>RAPública</td>\n      <td>60</td>\n      <td>spotify</td>\n      <td>Spotify</td>\n      <td>993985</td>\n      <td>rap</td>\n    </tr>\n    <tr>\n      <th>3</th>\n      <td>37i9dQZF1DX8Kgdykz6OKj</td>\n      <td>Jazz Rap</td>\n      <td>100</td>\n      <td>spotify</td>\n      <td>Spotify</td>\n      <td>771168</td>\n      <td>rap</td>\n    </tr>\n    <tr>\n      <th>4</th>\n      <td>37i9dQZF1DX6PKX5dyBKeq</td>\n      <td>Rap UK</td>\n      <td>81</td>\n      <td>spotify</td>\n      <td>Spotify</td>\n      <td>718436</td>\n      <td>rap</td>\n    </tr>\n    <tr>\n      <th>0</th>\n      <td>37i9dQZF1DWXRqgorJj26U</td>\n      <td>Rock Classics</td>\n      <td>145</td>\n      <td>spotify</td>\n      <td>Spotify</td>\n      <td>8713321</td>\n      <td>rock</td>\n    </tr>\n    <tr>\n      <th>1</th>\n      <td>37i9dQZF1DXcF6B6QPhFDv</td>\n      <td>Rock This</td>\n      <td>50</td>\n      <td>spotify</td>\n      <td>Spotify</td>\n      <td>4490497</td>\n      <td>rock</td>\n    </tr>\n    <tr>\n      <th>2</th>\n      <td>37i9dQZF1DX1rVvRgjX59F</td>\n      <td>90s Rock Anthems</td>\n      <td>150</td>\n      <td>spotify</td>\n      <td>Spotify</td>\n      <td>4091838</td>\n      <td>rock</td>\n    </tr>\n    <tr>\n      <th>3</th>\n      <td>37i9dQZF1DWYN0zdqzbEwl</td>\n      <td>Rock en Español</td>\n      <td>60</td>\n      <td>spotify</td>\n      <td>Spotify</td>\n      <td>3825910</td>\n      <td>rock</td>\n    </tr>\n    <tr>\n      <th>4</th>\n      <td>37i9dQZF1DX6xOPeSOGone</td>\n      <td>Soft Rock</td>\n      <td>100</td>\n      <td>spotify</td>\n      <td>Spotify</td>\n      <td>2801391</td>\n      <td>rock</td>\n    </tr>\n    <tr>\n      <th>0</th>\n      <td>37i9dQZF1DWVqfgj8NZEp1</td>\n      <td>Coffee Table Jazz</td>\n      <td>140</td>\n      <td>spotify</td>\n      <td>Spotify</td>\n      <td>2282279</td>\n      <td>jazz</td>\n    </tr>\n    <tr>\n      <th>1</th>\n      <td>37i9dQZF1DXbITWG1ZJKYt</td>\n      <td>Jazz Classics</td>\n      <td>100</td>\n      <td>spotify</td>\n      <td>Spotify</td>\n      <td>1905763</td>\n      <td>jazz</td>\n    </tr>\n    <tr>\n      <th>2</th>\n      <td>37i9dQZF1DX4wta20PHgwo</td>\n      <td>Late Night Jazz</td>\n      <td>80</td>\n      <td>spotify</td>\n      <td>Spotify</td>\n      <td>1852668</td>\n      <td>jazz</td>\n    </tr>\n    <tr>\n      <th>3</th>\n      <td>37i9dQZF1DX0SM0LYsmbMT</td>\n      <td>Jazz Vibes</td>\n      <td>350</td>\n      <td>spotify</td>\n      <td>Spotify</td>\n      <td>1775132</td>\n      <td>jazz</td>\n    </tr>\n    <tr>\n      <th>4</th>\n      <td>37i9dQZF1DWTbzY5gOVvKd</td>\n      <td>Jazzy Romance</td>\n      <td>60</td>\n      <td>spotify</td>\n      <td>Spotify</td>\n      <td>996283</td>\n      <td>jazz</td>\n    </tr>\n    <tr>\n      <th>0</th>\n      <td>4ZB8LNvjTqxyUZPzHyYYJq</td>\n      <td>Remixes 2021 🔥 Best Popular Songs Remixed 🔥 Be...</td>\n      <td>198</td>\n      <td>mejoresplaylistsspotify</td>\n      <td>Filtr Éxitos</td>\n      <td>794587</td>\n      <td>edm</td>\n    </tr>\n    <tr>\n      <th>1</th>\n      <td>5AHH67GYsljwoB1q6UGvWg</td>\n      <td>Gaming Music 2021 🎮 Magic Music EDM Gaming Pla...</td>\n      <td>265</td>\n      <td>magicmusicsquad</td>\n      <td>Magic Records</td>\n      <td>617958</td>\n      <td>edm</td>\n    </tr>\n    <tr>\n      <th>2</th>\n      <td>5CTzufLc0f6MufjKYrIaoO</td>\n      <td>EDM 2021 House &amp; Dance by bigFM nitroX |  DAVI...</td>\n      <td>90</td>\n      <td>1138331383</td>\n      <td>Robaer</td>\n      <td>487751</td>\n      <td>edm</td>\n    </tr>\n    <tr>\n      <th>3</th>\n      <td>5CvETxDs2E5rQeNji0LPaA</td>\n      <td>EDM Hits | Dance Music 2021</td>\n      <td>220</td>\n      <td>kpu7ttyvk94i360ju1ym63upj</td>\n      <td>Desired Music</td>\n      <td>326768</td>\n      <td>edm</td>\n    </tr>\n    <tr>\n      <th>4</th>\n      <td>3Di88mvYplBtkDBIzGLiiM</td>\n      <td>EDM Hits 2021</td>\n      <td>125</td>\n      <td>fineshark</td>\n      <td>Christoffer Brants</td>\n      <td>324985</td>\n      <td>edm</td>\n    </tr>\n  </tbody>\n</table>\n</div>",
      "text/plain": "              playlist_id                                      playlist_name  \\\n0  37i9dQZF1DX0XUsuxWHRQd                                          RapCaviar   \n1  37i9dQZF1DX76t638V6CA8                                        Rap Workout   \n2  37i9dQZF1DWSIvbYYt1Dvi                                          RAPública   \n3  37i9dQZF1DX8Kgdykz6OKj                                           Jazz Rap   \n4  37i9dQZF1DX6PKX5dyBKeq                                             Rap UK   \n0  37i9dQZF1DWXRqgorJj26U                                      Rock Classics   \n1  37i9dQZF1DXcF6B6QPhFDv                                          Rock This   \n2  37i9dQZF1DX1rVvRgjX59F                                   90s Rock Anthems   \n3  37i9dQZF1DWYN0zdqzbEwl                                    Rock en Español   \n4  37i9dQZF1DX6xOPeSOGone                                          Soft Rock   \n0  37i9dQZF1DWVqfgj8NZEp1                                  Coffee Table Jazz   \n1  37i9dQZF1DXbITWG1ZJKYt                                      Jazz Classics   \n2  37i9dQZF1DX4wta20PHgwo                                    Late Night Jazz   \n3  37i9dQZF1DX0SM0LYsmbMT                                         Jazz Vibes   \n4  37i9dQZF1DWTbzY5gOVvKd                                      Jazzy Romance   \n0  4ZB8LNvjTqxyUZPzHyYYJq  Remixes 2021 🔥 Best Popular Songs Remixed 🔥 Be...   \n1  5AHH67GYsljwoB1q6UGvWg  Gaming Music 2021 🎮 Magic Music EDM Gaming Pla...   \n2  5CTzufLc0f6MufjKYrIaoO  EDM 2021 House & Dance by bigFM nitroX |  DAVI...   \n3  5CvETxDs2E5rQeNji0LPaA                        EDM Hits | Dance Music 2021   \n4  3Di88mvYplBtkDBIzGLiiM                                      EDM Hits 2021   \n\n   playlist_total_tracks                   owner_id          owner_name  \\\n0                     50                    spotify             Spotify   \n1                     59                    spotify             Spotify   \n2                     60                    spotify             Spotify   \n3                    100                    spotify             Spotify   \n4                     81                    spotify             Spotify   \n0                    145                    spotify             Spotify   \n1                     50                    spotify             Spotify   \n2                    150                    spotify             Spotify   \n3                     60                    spotify             Spotify   \n4                    100                    spotify             Spotify   \n0                    140                    spotify             Spotify   \n1                    100                    spotify             Spotify   \n2                     80                    spotify             Spotify   \n3                    350                    spotify             Spotify   \n4                     60                    spotify             Spotify   \n0                    198    mejoresplaylistsspotify        Filtr Éxitos   \n1                    265            magicmusicsquad       Magic Records   \n2                     90                 1138331383              Robaer   \n3                    220  kpu7ttyvk94i360ju1ym63upj       Desired Music   \n4                    125                  fineshark  Christoffer Brants   \n\n   total_followers genre  \n0         13588683   rap  \n1          1263588   rap  \n2           993985   rap  \n3           771168   rap  \n4           718436   rap  \n0          8713321  rock  \n1          4490497  rock  \n2          4091838  rock  \n3          3825910  rock  \n4          2801391  rock  \n0          2282279  jazz  \n1          1905763  jazz  \n2          1852668  jazz  \n3          1775132  jazz  \n4           996283  jazz  \n0           794587   edm  \n1           617958   edm  \n2           487751   edm  \n3           326768   edm  \n4           324985   edm  "
     },
     "execution_count": 10,
     "metadata": {},
     "output_type": "execute_result"
    }
   ],
   "source": [
    "#get top 5 playlists per genre\n",
    "top_playlists_df = playlist_df.groupby('genre').head(5)\n",
    "top_playlists_df"
   ]
  },
  {
   "cell_type": "code",
   "execution_count": 11,
   "metadata": {
    "ExecuteTime": {
     "end_time": "2021-01-21T15:12:53.706525Z",
     "start_time": "2021-01-21T15:12:53.691178Z"
    }
   },
   "outputs": [
    {
     "data": {
      "text/plain": "edm     2386\njazz    1659\nrock    1531\nrap     1318\nName: genre, dtype: int64"
     },
     "execution_count": 11,
     "metadata": {},
     "output_type": "execute_result"
    }
   ],
   "source": [
    "#tracks_df = tracks_df[tracks_df['playlist_id'].isin(top_playlists_df['playlist_id'].values)]\n",
    "tracks_df['genre'].value_counts()"
   ]
  },
  {
   "cell_type": "code",
   "execution_count": 12,
   "metadata": {},
   "outputs": [
    {
     "data": {
      "text/plain": "Index(['track_id', 'track_name', 'artist_id', 'artist_name', 'album_id',\n       'duration', 'release_date', 'popularity', 'danceability', 'energy',\n       'key', 'loudness', 'mode', 'speechiness', 'acousticness',\n       'instrumentalness', 'liveness', 'valence', 'tempo', 'playlist_id',\n       'genre', 'playlist_name'],\n      dtype='object')"
     },
     "execution_count": 12,
     "metadata": {},
     "output_type": "execute_result"
    }
   ],
   "source": [
    "tracks_df.columns"
   ]
  },
  {
   "cell_type": "markdown",
   "metadata": {},
   "source": [
    "### 3. Feature Engineering"
   ]
  },
  {
   "cell_type": "markdown",
   "metadata": {},
   "source": [
    "##### Conversions/Normalizations"
   ]
  },
  {
   "cell_type": "code",
   "execution_count": 13,
   "metadata": {
    "ExecuteTime": {
     "end_time": "2021-01-21T15:12:53.713900Z",
     "start_time": "2021-01-21T15:12:53.709413Z"
    }
   },
   "outputs": [],
   "source": [
    "#convert duration from ms to mins\n",
    "tracks_df['duration_mins']=tracks_df['duration']/60000"
   ]
  },
  {
   "cell_type": "code",
   "execution_count": 14,
   "metadata": {
    "ExecuteTime": {
     "end_time": "2021-01-21T15:12:55.732448Z",
     "start_time": "2021-01-21T15:12:53.717230Z"
    }
   },
   "outputs": [
    {
     "data": {
      "text/plain": "count    6894.000000\nmean        0.761291\nstd         0.129900\nmin         0.000000\n25%         0.718079\n50%         0.800682\n75%         0.848272\nmax         1.000000\nName: loudness, dtype: float64"
     },
     "execution_count": 14,
     "metadata": {},
     "output_type": "execute_result"
    }
   ],
   "source": [
    "\n",
    "\n",
    "tracks_df['loudness'] = scaler.fit_transform(tracks_df[['loudness']])\n",
    "tracks_df['loudness'].describe()\n"
   ]
  },
  {
   "cell_type": "code",
   "execution_count": 15,
   "metadata": {
    "ExecuteTime": {
     "end_time": "2021-01-21T15:12:55.756376Z",
     "start_time": "2021-01-21T15:12:55.734859Z"
    }
   },
   "outputs": [
    {
     "data": {
      "text/plain": "count    6894.000000\nmean        0.543628\nstd         0.124587\nmin         0.000000\n25%         0.447551\n50%         0.554886\n75%         0.609126\nmax         1.000000\nName: tempo, dtype: float64"
     },
     "execution_count": 15,
     "metadata": {},
     "output_type": "execute_result"
    }
   ],
   "source": [
    "#Normalize tempo\n",
    "tracks_df['tempo'] =  scaler.fit_transform(tracks_df[['tempo']])\n",
    "#check\n",
    "tracks_df['tempo'].describe()\n"
   ]
  },
  {
   "cell_type": "markdown",
   "metadata": {},
   "source": [
    "###### Categorical Encoding"
   ]
  },
  {
   "cell_type": "code",
   "execution_count": 16,
   "metadata": {
    "ExecuteTime": {
     "end_time": "2021-01-21T15:12:55.771503Z",
     "start_time": "2021-01-21T15:12:55.759010Z"
    }
   },
   "outputs": [
    {
     "data": {
      "text/plain": "track_id              object\ntrack_name            object\nartist_id             object\nartist_name           object\nalbum_id              object\nduration               int64\nrelease_date          object\npopularity             int64\ndanceability         float64\nenergy               float64\nkey                    int64\nloudness             float64\nmode                   int64\nspeechiness          float64\nacousticness         float64\ninstrumentalness     float64\nliveness             float64\nvalence              float64\ntempo                float64\nplaylist_id           object\ngenre               category\nplaylist_name         object\nduration_mins        float64\ndtype: object"
     },
     "execution_count": 16,
     "metadata": {},
     "output_type": "execute_result"
    }
   ],
   "source": [
    "tracks_df[\"genre\"] = tracks_df[\"genre\"].astype('category')\n",
    "tracks_df.dtypes"
   ]
  },
  {
   "cell_type": "code",
   "execution_count": 17,
   "metadata": {
    "ExecuteTime": {
     "end_time": "2021-01-21T15:12:55.784436Z",
     "start_time": "2021-01-21T15:12:55.774867Z"
    }
   },
   "outputs": [
    {
     "data": {
      "text/plain": "edm     2386\njazz    1659\nrock    1531\nrap     1318\nName: genre, dtype: int64"
     },
     "execution_count": 17,
     "metadata": {},
     "output_type": "execute_result"
    }
   ],
   "source": [
    "tracks_df['genre'].value_counts()"
   ]
  },
  {
   "cell_type": "code",
   "execution_count": 18,
   "metadata": {
    "ExecuteTime": {
     "end_time": "2021-01-21T15:12:55.822459Z",
     "start_time": "2021-01-21T15:12:55.786994Z"
    }
   },
   "outputs": [
    {
     "data": {
      "text/html": "<div>\n<style scoped>\n    .dataframe tbody tr th:only-of-type {\n        vertical-align: middle;\n    }\n\n    .dataframe tbody tr th {\n        vertical-align: top;\n    }\n\n    .dataframe thead th {\n        text-align: right;\n    }\n</style>\n<table border=\"1\" class=\"dataframe\">\n  <thead>\n    <tr style=\"text-align: right;\">\n      <th></th>\n      <th>track_id</th>\n      <th>track_name</th>\n      <th>artist_id</th>\n      <th>artist_name</th>\n      <th>album_id</th>\n      <th>duration</th>\n      <th>release_date</th>\n      <th>popularity</th>\n      <th>danceability</th>\n      <th>energy</th>\n      <th>...</th>\n      <th>acousticness</th>\n      <th>instrumentalness</th>\n      <th>liveness</th>\n      <th>valence</th>\n      <th>tempo</th>\n      <th>playlist_id</th>\n      <th>genre</th>\n      <th>playlist_name</th>\n      <th>duration_mins</th>\n      <th>genre_id</th>\n    </tr>\n  </thead>\n  <tbody>\n    <tr>\n      <th>0</th>\n      <td>7o4gBbTM6UBLkOYPw9xMCz</td>\n      <td>Moonwalking in Calabasas (feat. Blueface) - Remix</td>\n      <td>0WK3H9OErSn5zKOkOV5egm</td>\n      <td>DDG</td>\n      <td>1z02WpEdAuImwfySk43owY</td>\n      <td>170232</td>\n      <td>2020-12-02</td>\n      <td>84</td>\n      <td>0.928</td>\n      <td>0.341</td>\n      <td>...</td>\n      <td>0.0614</td>\n      <td>0.0</td>\n      <td>0.1620</td>\n      <td>0.745</td>\n      <td>0.590706</td>\n      <td>37i9dQZF1DX0XUsuxWHRQd</td>\n      <td>rap</td>\n      <td>RapCaviar</td>\n      <td>2.837200</td>\n      <td>2</td>\n    </tr>\n    <tr>\n      <th>1</th>\n      <td>5vGLcdRuSbUhD8ScwsGSdA</td>\n      <td>Whoopty</td>\n      <td>7arQA31aZVS8yS6zUveWzb</td>\n      <td>CJ</td>\n      <td>5oBYG6dEI2Er6EeLnmonGE</td>\n      <td>123428</td>\n      <td>2020-08-20</td>\n      <td>95</td>\n      <td>0.711</td>\n      <td>0.598</td>\n      <td>...</td>\n      <td>0.1900</td>\n      <td>0.0</td>\n      <td>0.1500</td>\n      <td>0.737</td>\n      <td>0.637107</td>\n      <td>37i9dQZF1DX0XUsuxWHRQd</td>\n      <td>rap</td>\n      <td>RapCaviar</td>\n      <td>2.057133</td>\n      <td>2</td>\n    </tr>\n    <tr>\n      <th>2</th>\n      <td>26UxwWl9xCb83OynXELJcL</td>\n      <td>Masterpiece</td>\n      <td>4r63FhuTkUYltbVAg5TQnk</td>\n      <td>DaBaby</td>\n      <td>6kaYDcX9dNmJE5OU71IUby</td>\n      <td>181714</td>\n      <td>2021-01-15</td>\n      <td>74</td>\n      <td>0.781</td>\n      <td>0.726</td>\n      <td>...</td>\n      <td>0.0299</td>\n      <td>0.0</td>\n      <td>0.0930</td>\n      <td>0.436</td>\n      <td>0.636257</td>\n      <td>37i9dQZF1DX0XUsuxWHRQd</td>\n      <td>rap</td>\n      <td>RapCaviar</td>\n      <td>3.028567</td>\n      <td>2</td>\n    </tr>\n    <tr>\n      <th>3</th>\n      <td>0k7wmahjkn389wAZdz19Cv</td>\n      <td>Drankin N Smokin</td>\n      <td>1RyvyyTE3xzB2ZywiAwp0i</td>\n      <td>Future</td>\n      <td>48xpWR8K6CGpy3ETAym3pt</td>\n      <td>213520</td>\n      <td>2020-11-13</td>\n      <td>84</td>\n      <td>0.752</td>\n      <td>0.658</td>\n      <td>...</td>\n      <td>0.0421</td>\n      <td>0.0</td>\n      <td>0.0927</td>\n      <td>0.387</td>\n      <td>0.690630</td>\n      <td>37i9dQZF1DX0XUsuxWHRQd</td>\n      <td>rap</td>\n      <td>RapCaviar</td>\n      <td>3.558667</td>\n      <td>2</td>\n    </tr>\n    <tr>\n      <th>4</th>\n      <td>4DuUwzP4ALMqpquHU0ltAB</td>\n      <td>Tyler Herro</td>\n      <td>2LIk90788K0zvyj2JJVwkJ</td>\n      <td>Jack Harlow</td>\n      <td>4Vd7lpztpJdmMt9hrLfXWe</td>\n      <td>156497</td>\n      <td>2020-10-22</td>\n      <td>87</td>\n      <td>0.794</td>\n      <td>0.756</td>\n      <td>...</td>\n      <td>0.1100</td>\n      <td>0.0</td>\n      <td>0.2470</td>\n      <td>0.775</td>\n      <td>0.559345</td>\n      <td>37i9dQZF1DX0XUsuxWHRQd</td>\n      <td>rap</td>\n      <td>RapCaviar</td>\n      <td>2.608283</td>\n      <td>2</td>\n    </tr>\n  </tbody>\n</table>\n<p>5 rows × 24 columns</p>\n</div>",
      "text/plain": "                 track_id                                         track_name  \\\n0  7o4gBbTM6UBLkOYPw9xMCz  Moonwalking in Calabasas (feat. Blueface) - Remix   \n1  5vGLcdRuSbUhD8ScwsGSdA                                            Whoopty   \n2  26UxwWl9xCb83OynXELJcL                                        Masterpiece   \n3  0k7wmahjkn389wAZdz19Cv                                   Drankin N Smokin   \n4  4DuUwzP4ALMqpquHU0ltAB                                        Tyler Herro   \n\n                artist_id  artist_name                album_id  duration  \\\n0  0WK3H9OErSn5zKOkOV5egm          DDG  1z02WpEdAuImwfySk43owY    170232   \n1  7arQA31aZVS8yS6zUveWzb           CJ  5oBYG6dEI2Er6EeLnmonGE    123428   \n2  4r63FhuTkUYltbVAg5TQnk       DaBaby  6kaYDcX9dNmJE5OU71IUby    181714   \n3  1RyvyyTE3xzB2ZywiAwp0i       Future  48xpWR8K6CGpy3ETAym3pt    213520   \n4  2LIk90788K0zvyj2JJVwkJ  Jack Harlow  4Vd7lpztpJdmMt9hrLfXWe    156497   \n\n  release_date  popularity  danceability  energy  ...  acousticness  \\\n0   2020-12-02          84         0.928   0.341  ...        0.0614   \n1   2020-08-20          95         0.711   0.598  ...        0.1900   \n2   2021-01-15          74         0.781   0.726  ...        0.0299   \n3   2020-11-13          84         0.752   0.658  ...        0.0421   \n4   2020-10-22          87         0.794   0.756  ...        0.1100   \n\n   instrumentalness  liveness  valence     tempo             playlist_id  \\\n0               0.0    0.1620    0.745  0.590706  37i9dQZF1DX0XUsuxWHRQd   \n1               0.0    0.1500    0.737  0.637107  37i9dQZF1DX0XUsuxWHRQd   \n2               0.0    0.0930    0.436  0.636257  37i9dQZF1DX0XUsuxWHRQd   \n3               0.0    0.0927    0.387  0.690630  37i9dQZF1DX0XUsuxWHRQd   \n4               0.0    0.2470    0.775  0.559345  37i9dQZF1DX0XUsuxWHRQd   \n\n   genre  playlist_name  duration_mins genre_id  \n0    rap      RapCaviar       2.837200        2  \n1    rap      RapCaviar       2.057133        2  \n2    rap      RapCaviar       3.028567        2  \n3    rap      RapCaviar       3.558667        2  \n4    rap      RapCaviar       2.608283        2  \n\n[5 rows x 24 columns]"
     },
     "execution_count": 18,
     "metadata": {},
     "output_type": "execute_result"
    }
   ],
   "source": [
    "tracks_df['genre_id'] = tracks_df[\"genre\"].cat.codes\n",
    "tracks_df.head()"
   ]
  },
  {
   "cell_type": "code",
   "execution_count": 19,
   "metadata": {
    "ExecuteTime": {
     "end_time": "2021-01-21T15:12:55.838100Z",
     "start_time": "2021-01-21T15:12:55.825564Z"
    }
   },
   "outputs": [
    {
     "data": {
      "text/plain": "{2: 'rap', 3: 'rock', 1: 'jazz', 0: 'edm'}"
     },
     "execution_count": 19,
     "metadata": {},
     "output_type": "execute_result"
    }
   ],
   "source": [
    "genre_lookup = dict(tracks_df.groupby('genre_id').head(1)[['genre_id','genre']].values)\n",
    "genre_lookup"
   ]
  },
  {
   "cell_type": "markdown",
   "metadata": {},
   "source": [
    "## 4. Train a KNN model"
   ]
  },
  {
   "cell_type": "markdown",
   "metadata": {},
   "source": [
    "Tuning the model"
   ]
  },
  {
   "cell_type": "code",
   "execution_count": 20,
   "metadata": {
    "ExecuteTime": {
     "end_time": "2021-01-21T15:13:40.275752Z",
     "start_time": "2021-01-21T15:12:56.766924Z"
    },
    "scrolled": true
   },
   "outputs": [
    {
     "name": "stdout",
     "output_type": "stream",
     "text": [
      "\n",
      "Tuning kNN classification model with K-Fold=4...\n",
      "Shape of X_Train:(5515, 9)\n",
      "Shape of y_Train:(5515,)\n",
      "Shape of X_Test:(1379, 9)\n",
      "Shape of y_Test:(1379,)\n",
      "Finding best k...\n"
     ]
    },
    {
     "data": {
      "image/png": "[encoded data removed]",
      "text/plain": "<Figure size 432x288 with 1 Axes>"
     },
     "metadata": {
      "needs_background": "light"
     },
     "output_type": "display_data"
    },
    {
     "name": "stdout",
     "output_type": "stream",
     "text": [
      "The optimal number of neighbors is 23 with score 79%\n",
      "\n",
      "Tuning kNN classification model with K-Fold=5...\n",
      "Shape of X_Train:(5515, 9)\n",
      "Shape of y_Train:(5515,)\n",
      "Shape of X_Test:(1379, 9)\n",
      "Shape of y_Test:(1379,)\n",
      "Finding best k...\n"
     ]
    },
    {
     "data": {
      "image/png": "[encoded data removed]",
      "text/plain": "<Figure size 432x288 with 1 Axes>"
     },
     "metadata": {
      "needs_background": "light"
     },
     "output_type": "display_data"
    },
    {
     "name": "stdout",
     "output_type": "stream",
     "text": [
      "The optimal number of neighbors is 20 with score 78%\n",
      "\n",
      "Tuning kNN classification model with K-Fold=8...\n",
      "Shape of X_Train:(5515, 9)\n",
      "Shape of y_Train:(5515,)\n",
      "Shape of X_Test:(1379, 9)\n",
      "Shape of y_Test:(1379,)\n",
      "Finding best k...\n"
     ]
    },
    {
     "data": {
      "image/png": "[encoded data removed]",
      "text/plain": "<Figure size 432x288 with 1 Axes>"
     },
     "metadata": {
      "needs_background": "light"
     },
     "output_type": "display_data"
    },
    {
     "name": "stdout",
     "output_type": "stream",
     "text": [
      "The optimal number of neighbors is 17 with score 79%\n",
      "\n",
      "Tuning kNN classification model with K-Fold=10...\n",
      "Shape of X_Train:(5515, 9)\n",
      "Shape of y_Train:(5515,)\n",
      "Shape of X_Test:(1379, 9)\n",
      "Shape of y_Test:(1379,)\n",
      "Finding best k...\n"
     ]
    },
    {
     "data": {
      "image/png": "[encoded data removed]",
      "text/plain": "<Figure size 432x288 with 1 Axes>"
     },
     "metadata": {
      "needs_background": "light"
     },
     "output_type": "display_data"
    },
    {
     "name": "stdout",
     "output_type": "stream",
     "text": [
      "The optimal number of neighbors is 10 with score 79%\n"
     ]
    }
   ],
   "source": [
    "#Select audio features to use for the model\r\n",
    "feature_cols = ['danceability', 'energy', 'loudness', 'speechiness', 'acousticness', 'instrumentalness',\\\r\n",
    "                 'liveness', 'valence', 'tempo']\r\n",
    "#feature_cols = ['energy', 'loudness', 'speechiness']\r\n",
    "results_optimal_k = []\r\n",
    "\r\n",
    "kfolds= [4,5,8,10]\r\n",
    "\r\n",
    "for d in kfolds:\r\n",
    "    print('\\nTuning kNN classification model with K-Fold=%d...' % d)\r\n",
    "    # create feature matrix (X)\r\n",
    "    X = tracks_df[feature_cols]\r\n",
    "    y = tracks_df['genre_id']\r\n",
    "\r\n",
    "    # creating training set, test set and checking shapes \r\n",
    "    X_train,X_test,Y_train,Y_test = train_test_split(X,y, test_size=0.2)\r\n",
    "    print(\"Shape of X_Train:\"+str(X_train.shape))\r\n",
    "    print(\"Shape of y_Train:\"+str(Y_train.shape))\r\n",
    "    print(\"Shape of X_Test:\"+str(X_test.shape))\r\n",
    "    print(\"Shape of y_Test:\"+str(Y_test.shape))\r\n",
    "    \r\n",
    "    #train model\r\n",
    "    cv_scores = []\r\n",
    "    neighbors=np.arange(2,51)\r\n",
    "    print('Finding best k...')\r\n",
    "    \r\n",
    "    #Perform KNN using K= [1..50] and validate using k-fold k = 5\r\n",
    "    for k in neighbors:\r\n",
    "        #print('Fitting for k=%d' % k)\r\n",
    "        knn = KNeighborsClassifier(n_neighbors=k)\r\n",
    "        scores = cross_val_score(knn, X_train, Y_train, cv=d)#, scoring='accuracy')\r\n",
    "        cv_scores.append(scores.mean())\r\n",
    "        \r\n",
    "    # changeto misclassification error\r\n",
    "    mse = [1 - x for x in cv_scores]\r\n",
    "\r\n",
    "    # determining best k\r\n",
    "    optimal_k = neighbors[mse.index(min(mse))]\r\n",
    "    results_optimal_k.append(optimal_k)\r\n",
    "    \r\n",
    "    knn_optimal = KNeighborsClassifier(n_neighbors=k)\r\n",
    "    knn_optimal.fit(X, y)\r\n",
    "    # plot misclassification error vs k\r\n",
    "    plt.plot(neighbors, mse)\r\n",
    "    plt.xlabel(\"Number of Neighbors K\")\r\n",
    "    plt.ylabel(\"Misclassification Error\")\r\n",
    "    plt.show()\r\n",
    "    \r\n",
    "    print(\"The optimal number of neighbors is %d with score %d%%\" % (optimal_k, 100*(1-min(mse))))\r\n"
   ]
  },
  {
   "cell_type": "code",
   "execution_count": 21,
   "metadata": {
    "ExecuteTime": {
     "end_time": "2021-01-21T15:13:40.284369Z",
     "start_time": "2021-01-21T15:13:40.278341Z"
    }
   },
   "outputs": [
    {
     "data": {
      "text/plain": "[23, 20, 17, 10]"
     },
     "execution_count": 21,
     "metadata": {},
     "output_type": "execute_result"
    }
   ],
   "source": [
    "#results_optimal_k = [38, 33, 17, 21, 13, 46, 26, 27, 10, 26]\n",
    "results_optimal_k"
   ]
  },
  {
   "cell_type": "markdown",
   "metadata": {},
   "source": [
    "### 5. Model Prediction"
   ]
  },
  {
   "cell_type": "code",
   "execution_count": 22,
   "metadata": {
    "ExecuteTime": {
     "end_time": "2021-01-21T15:13:40.347640Z",
     "start_time": "2021-01-21T15:13:40.287636Z"
    },
    "scrolled": true
   },
   "outputs": [
    {
     "data": {
      "text/html": "<div>\n<style scoped>\n    .dataframe tbody tr th:only-of-type {\n        vertical-align: middle;\n    }\n\n    .dataframe tbody tr th {\n        vertical-align: top;\n    }\n\n    .dataframe thead th {\n        text-align: right;\n    }\n</style>\n<table border=\"1\" class=\"dataframe\">\n  <thead>\n    <tr style=\"text-align: right;\">\n      <th></th>\n      <th>track_id</th>\n      <th>track_name</th>\n      <th>artist_id</th>\n      <th>artist_name</th>\n      <th>album_id</th>\n      <th>duration</th>\n      <th>release_date</th>\n      <th>popularity</th>\n      <th>danceability</th>\n      <th>energy</th>\n      <th>key</th>\n      <th>loudness</th>\n      <th>mode</th>\n      <th>speechiness</th>\n      <th>acousticness</th>\n      <th>instrumentalness</th>\n      <th>liveness</th>\n      <th>valence</th>\n      <th>tempo</th>\n    </tr>\n  </thead>\n  <tbody>\n    <tr>\n      <th>0</th>\n      <td>0kN8xEmgMW9mh7UmDYHlJP</td>\n      <td>Versace on the Floor</td>\n      <td>0du5cEVh5yTK9QJze8zA0C</td>\n      <td>Bruno Mars</td>\n      <td>4PgleR09JVnm3zY1fW3XBA</td>\n      <td>261240</td>\n      <td>2016-11-17</td>\n      <td>76</td>\n      <td>0.578</td>\n      <td>0.574</td>\n      <td>2.0</td>\n      <td>-6.209</td>\n      <td>1.0</td>\n      <td>0.0454</td>\n      <td>0.196</td>\n      <td>0.00000</td>\n      <td>0.0830</td>\n      <td>0.301</td>\n      <td>174.152</td>\n    </tr>\n    <tr>\n      <th>1</th>\n      <td>5uCax9HTNlzGybIStD3vDh</td>\n      <td>Say You Won't Let Go</td>\n      <td>4IWBUUAFIplrNtaOHcJPRM</td>\n      <td>James Arthur</td>\n      <td>7oiJYvEJHsmYtrgviAVIBD</td>\n      <td>211466</td>\n      <td>2016-10-28</td>\n      <td>85</td>\n      <td>0.358</td>\n      <td>0.557</td>\n      <td>10.0</td>\n      <td>-7.398</td>\n      <td>1.0</td>\n      <td>0.0590</td>\n      <td>0.695</td>\n      <td>0.00000</td>\n      <td>0.0902</td>\n      <td>0.494</td>\n      <td>85.043</td>\n    </tr>\n    <tr>\n      <th>2</th>\n      <td>7BKLCZ1jbUBVqRi2FVlTVw</td>\n      <td>Closer</td>\n      <td>69GGBxA162lTqCwzJG5jLp</td>\n      <td>The Chainsmokers</td>\n      <td>0rSLgV8p5FzfnqlEk4GzxE</td>\n      <td>244960</td>\n      <td>2016-07-29</td>\n      <td>85</td>\n      <td>0.748</td>\n      <td>0.524</td>\n      <td>8.0</td>\n      <td>-5.599</td>\n      <td>1.0</td>\n      <td>0.0338</td>\n      <td>0.414</td>\n      <td>0.00000</td>\n      <td>0.1110</td>\n      <td>0.661</td>\n      <td>95.010</td>\n    </tr>\n    <tr>\n      <th>3</th>\n      <td>2rizacJSyD9S1IQUxUxnsK</td>\n      <td>All We Know</td>\n      <td>69GGBxA162lTqCwzJG5jLp</td>\n      <td>The Chainsmokers</td>\n      <td>0xmaV6EtJ4M3ebZUPRnhyb</td>\n      <td>194080</td>\n      <td>2016-09-29</td>\n      <td>69</td>\n      <td>0.662</td>\n      <td>0.586</td>\n      <td>0.0</td>\n      <td>-8.821</td>\n      <td>1.0</td>\n      <td>0.0307</td>\n      <td>0.097</td>\n      <td>0.00272</td>\n      <td>0.1150</td>\n      <td>0.296</td>\n      <td>90.000</td>\n    </tr>\n    <tr>\n      <th>4</th>\n      <td>5MFzQMkrl1FOOng9tq6R9r</td>\n      <td>Don't Wanna Know</td>\n      <td>04gDigrS5kc9YWfZHwBETP</td>\n      <td>Maroon 5</td>\n      <td>0fvTn3WXF39kQs9i3bnNpP</td>\n      <td>214480</td>\n      <td>2016-10-11</td>\n      <td>0</td>\n      <td>0.783</td>\n      <td>0.623</td>\n      <td>7.0</td>\n      <td>-6.126</td>\n      <td>1.0</td>\n      <td>0.0800</td>\n      <td>0.338</td>\n      <td>0.00000</td>\n      <td>0.0975</td>\n      <td>0.447</td>\n      <td>100.048</td>\n    </tr>\n  </tbody>\n</table>\n</div>",
      "text/plain": "                 track_id            track_name               artist_id  \\\n0  0kN8xEmgMW9mh7UmDYHlJP  Versace on the Floor  0du5cEVh5yTK9QJze8zA0C   \n1  5uCax9HTNlzGybIStD3vDh  Say You Won't Let Go  4IWBUUAFIplrNtaOHcJPRM   \n2  7BKLCZ1jbUBVqRi2FVlTVw                Closer  69GGBxA162lTqCwzJG5jLp   \n3  2rizacJSyD9S1IQUxUxnsK           All We Know  69GGBxA162lTqCwzJG5jLp   \n4  5MFzQMkrl1FOOng9tq6R9r      Don't Wanna Know  04gDigrS5kc9YWfZHwBETP   \n\n        artist_name                album_id  duration release_date  \\\n0        Bruno Mars  4PgleR09JVnm3zY1fW3XBA    261240   2016-11-17   \n1      James Arthur  7oiJYvEJHsmYtrgviAVIBD    211466   2016-10-28   \n2  The Chainsmokers  0rSLgV8p5FzfnqlEk4GzxE    244960   2016-07-29   \n3  The Chainsmokers  0xmaV6EtJ4M3ebZUPRnhyb    194080   2016-09-29   \n4          Maroon 5  0fvTn3WXF39kQs9i3bnNpP    214480   2016-10-11   \n\n   popularity  danceability  energy   key  loudness  mode  speechiness  \\\n0          76         0.578   0.574   2.0    -6.209   1.0       0.0454   \n1          85         0.358   0.557  10.0    -7.398   1.0       0.0590   \n2          85         0.748   0.524   8.0    -5.599   1.0       0.0338   \n3          69         0.662   0.586   0.0    -8.821   1.0       0.0307   \n4           0         0.783   0.623   7.0    -6.126   1.0       0.0800   \n\n   acousticness  instrumentalness  liveness  valence    tempo  \n0         0.196           0.00000    0.0830    0.301  174.152  \n1         0.695           0.00000    0.0902    0.494   85.043  \n2         0.414           0.00000    0.1110    0.661   95.010  \n3         0.097           0.00272    0.1150    0.296   90.000  \n4         0.338           0.00000    0.0975    0.447  100.048  "
     },
     "execution_count": 22,
     "metadata": {},
     "output_type": "execute_result"
    }
   ],
   "source": [
    "#Predict genres of the charting tracks\n",
    "chart_tracks_df = pd.read_csv(\"data/spotify_daily_charts_tracks.csv\")\n",
    "chart_tracks_df.head()"
   ]
  },
  {
   "cell_type": "code",
   "execution_count": 23,
   "metadata": {
    "ExecuteTime": {
     "end_time": "2021-01-21T15:13:40.365275Z",
     "start_time": "2021-01-21T15:13:40.350457Z"
    }
   },
   "outputs": [],
   "source": [
    "#normalize loudness and tempo\n",
    "chart_tracks_df['loudness'] = scaler.fit_transform(chart_tracks_df[['loudness']])\n",
    "chart_tracks_df['tempo'] =  scaler.fit_transform(chart_tracks_df[['tempo']])"
   ]
  },
  {
   "cell_type": "markdown",
   "metadata": {},
   "source": [
    "Test the model with external data by predicting the genres of the spotify charting tracks!"
   ]
  },
  {
   "cell_type": "code",
   "execution_count": 24,
   "metadata": {
    "ExecuteTime": {
     "end_time": "2021-01-21T15:13:49.302804Z",
     "start_time": "2021-01-21T15:13:40.369326Z"
    },
    "scrolled": true
   },
   "outputs": [
    {
     "name": "stdout",
     "output_type": "stream",
     "text": [
      "Predicting with optimal k: 10\n"
     ]
    }
   ],
   "source": [
    "#Predict genres of the spotify charts\r\n",
    "feature_cols = ['danceability', 'energy', 'loudness', 'speechiness', 'acousticness', 'instrumentalness',\\\r\n",
    "                 'liveness', 'valence', 'tempo']\r\n",
    "#feature_cols = ['energy', 'loudness', 'tempo']\r\n",
    "genres = [genre_lookup[i] for i in np.arange(len(genre_names))]\r\n",
    "\r\n",
    "n=3 #pick kfold=10\r\n",
    "print(\"Predicting with optimal k: %d\" %(results_optimal_k[n]))\r\n",
    "\r\n",
    "knn_optimal = KNeighborsClassifier(n_neighbors=results_optimal_k[n])\r\n",
    "X = tracks_df[feature_cols]\r\n",
    "y = tracks_df['genre_id']\r\n",
    "knn_optimal.fit(X, y)\r\n",
    "\r\n",
    "chart_tracks_df = chart_tracks_df.dropna()\r\n",
    "chart_tracks_df['predicted_genre_id'] = chart_tracks_df.apply(lambda x:  knn_optimal.predict(x[feature_cols].values.reshape(1,-1))[0]\\\r\n",
    "                                               , axis=1)\r\n",
    "chart_tracks_df['predicted_genre'] = chart_tracks_df['predicted_genre_id'].apply(lambda x: genre_lookup[x])\r\n",
    "chart_tracks_df['predicted_genre_prob'] = chart_tracks_df.apply(lambda x:  np.max(knn_optimal.predict_proba(x[feature_cols].values.reshape(1,-1)))\\\r\n",
    "                                                    , axis=1)\r\n",
    "chart_tracks_df['all_genre_prob'] = chart_tracks_df.apply(lambda x:  knn_optimal.predict_proba(x[feature_cols].values.reshape(1,-1))[0]\\\r\n",
    "                                                    , axis=1)\r\n"
   ]
  },
  {
   "cell_type": "code",
   "execution_count": 25,
   "metadata": {
    "ExecuteTime": {
     "end_time": "2021-01-21T15:13:49.362188Z",
     "start_time": "2021-01-21T15:13:49.304806Z"
    },
    "scrolled": true
   },
   "outputs": [
    {
     "data": {
      "text/html": "<div>\n<style scoped>\n    .dataframe tbody tr th:only-of-type {\n        vertical-align: middle;\n    }\n\n    .dataframe tbody tr th {\n        vertical-align: top;\n    }\n\n    .dataframe thead th {\n        text-align: right;\n    }\n</style>\n<table border=\"1\" class=\"dataframe\">\n  <thead>\n    <tr style=\"text-align: right;\">\n      <th></th>\n      <th>track_id</th>\n      <th>track_name</th>\n      <th>artist_id</th>\n      <th>artist_name</th>\n      <th>album_id</th>\n      <th>duration</th>\n      <th>release_date</th>\n      <th>popularity</th>\n      <th>danceability</th>\n      <th>energy</th>\n      <th>...</th>\n      <th>liveness</th>\n      <th>valence</th>\n      <th>tempo</th>\n      <th>predicted_genre_id</th>\n      <th>predicted_genre</th>\n      <th>predicted_genre_prob</th>\n      <th>predicted_edm_prob</th>\n      <th>predicted_jazz_prob</th>\n      <th>predicted_rap_prob</th>\n      <th>predicted_rock_prob</th>\n    </tr>\n  </thead>\n  <tbody>\n    <tr>\n      <th>376</th>\n      <td>6CfrYuD3YRDYdYvH9jNtXY</td>\n      <td>No Long Talk</td>\n      <td>3TVXtAsR1Inumwj472S9r4</td>\n      <td>Drake</td>\n      <td>1lXY618HWkwYKJWBRYR4MK</td>\n      <td>149568</td>\n      <td>2017-03-18</td>\n      <td>60</td>\n      <td>0.913</td>\n      <td>0.6080</td>\n      <td>...</td>\n      <td>0.533</td>\n      <td>0.578</td>\n      <td>0.273760</td>\n      <td>2</td>\n      <td>rap</td>\n      <td>1.0</td>\n      <td>0.0</td>\n      <td>0.0</td>\n      <td>1.0</td>\n      <td>0.0</td>\n    </tr>\n    <tr>\n      <th>1158</th>\n      <td>4hEcAsNF6RG9VCV7xElgCG</td>\n      <td>You Are My Sunshine</td>\n      <td>0rZRTXEmmPmx6gt92tBqIc</td>\n      <td>Moira Dela Torre</td>\n      <td>05rQadwAVYTpNNnBoeTuj0</td>\n      <td>164320</td>\n      <td>2018-02-19</td>\n      <td>56</td>\n      <td>0.492</td>\n      <td>0.2350</td>\n      <td>...</td>\n      <td>0.179</td>\n      <td>0.362</td>\n      <td>0.401746</td>\n      <td>1</td>\n      <td>jazz</td>\n      <td>1.0</td>\n      <td>0.3</td>\n      <td>0.1</td>\n      <td>0.1</td>\n      <td>0.5</td>\n    </tr>\n    <tr>\n      <th>1607</th>\n      <td>2jt2WxXMCD4zjACthkJQVE</td>\n      <td>The Ringer</td>\n      <td>7dGJo4pcD2V6oG8kP0tJRR</td>\n      <td>Eminem</td>\n      <td>3HNnxK7NgLXbDoxRZxNWiR</td>\n      <td>337941</td>\n      <td>2018-08-31</td>\n      <td>69</td>\n      <td>0.939</td>\n      <td>0.5510</td>\n      <td>...</td>\n      <td>0.192</td>\n      <td>0.420</td>\n      <td>0.405986</td>\n      <td>2</td>\n      <td>rap</td>\n      <td>1.0</td>\n      <td>0.1</td>\n      <td>0.0</td>\n      <td>0.5</td>\n      <td>0.4</td>\n    </tr>\n    <tr>\n      <th>1595</th>\n      <td>7uuEfUMuPeQ7RlSWa0cES2</td>\n      <td>Can’t Help Falling in Love</td>\n      <td>7h4j9YTJJuAHzLCc3KCvYu</td>\n      <td>Kina Grannis</td>\n      <td>32BVrPjwweOQcHKKpxgE4l</td>\n      <td>201933</td>\n      <td>2018-08-10</td>\n      <td>0</td>\n      <td>0.266</td>\n      <td>0.0596</td>\n      <td>...</td>\n      <td>0.132</td>\n      <td>0.143</td>\n      <td>0.794792</td>\n      <td>1</td>\n      <td>jazz</td>\n      <td>1.0</td>\n      <td>0.0</td>\n      <td>0.4</td>\n      <td>0.0</td>\n      <td>0.6</td>\n    </tr>\n    <tr>\n      <th>2274</th>\n      <td>19AlSgwI1midC2PU1TDkeF</td>\n      <td>Pekeng Kaibigan</td>\n      <td>1vcXQE9gZOF9PCAtdtT51L</td>\n      <td>Geo Ong</td>\n      <td>3A5uVKYCA9EJ6AIIIvHvdc</td>\n      <td>249085</td>\n      <td>2019-02-11</td>\n      <td>47</td>\n      <td>0.953</td>\n      <td>0.5800</td>\n      <td>...</td>\n      <td>0.108</td>\n      <td>0.765</td>\n      <td>0.452165</td>\n      <td>2</td>\n      <td>rap</td>\n      <td>1.0</td>\n      <td>0.8</td>\n      <td>0.0</td>\n      <td>0.1</td>\n      <td>0.1</td>\n    </tr>\n  </tbody>\n</table>\n<p>5 rows × 26 columns</p>\n</div>",
      "text/plain": "                    track_id                  track_name  \\\n376   6CfrYuD3YRDYdYvH9jNtXY                No Long Talk   \n1158  4hEcAsNF6RG9VCV7xElgCG         You Are My Sunshine   \n1607  2jt2WxXMCD4zjACthkJQVE                  The Ringer   \n1595  7uuEfUMuPeQ7RlSWa0cES2  Can’t Help Falling in Love   \n2274  19AlSgwI1midC2PU1TDkeF             Pekeng Kaibigan   \n\n                   artist_id       artist_name                album_id  \\\n376   3TVXtAsR1Inumwj472S9r4             Drake  1lXY618HWkwYKJWBRYR4MK   \n1158  0rZRTXEmmPmx6gt92tBqIc  Moira Dela Torre  05rQadwAVYTpNNnBoeTuj0   \n1607  7dGJo4pcD2V6oG8kP0tJRR            Eminem  3HNnxK7NgLXbDoxRZxNWiR   \n1595  7h4j9YTJJuAHzLCc3KCvYu      Kina Grannis  32BVrPjwweOQcHKKpxgE4l   \n2274  1vcXQE9gZOF9PCAtdtT51L           Geo Ong  3A5uVKYCA9EJ6AIIIvHvdc   \n\n      duration release_date  popularity  danceability  energy  ...  liveness  \\\n376     149568   2017-03-18          60         0.913  0.6080  ...     0.533   \n1158    164320   2018-02-19          56         0.492  0.2350  ...     0.179   \n1607    337941   2018-08-31          69         0.939  0.5510  ...     0.192   \n1595    201933   2018-08-10           0         0.266  0.0596  ...     0.132   \n2274    249085   2019-02-11          47         0.953  0.5800  ...     0.108   \n\n      valence     tempo  predicted_genre_id  predicted_genre  \\\n376     0.578  0.273760                   2              rap   \n1158    0.362  0.401746                   1             jazz   \n1607    0.420  0.405986                   2              rap   \n1595    0.143  0.794792                   1             jazz   \n2274    0.765  0.452165                   2              rap   \n\n      predicted_genre_prob  predicted_edm_prob  predicted_jazz_prob  \\\n376                    1.0                 0.0                  0.0   \n1158                   1.0                 0.3                  0.1   \n1607                   1.0                 0.1                  0.0   \n1595                   1.0                 0.0                  0.4   \n2274                   1.0                 0.8                  0.0   \n\n      predicted_rap_prob  predicted_rock_prob  \n376                  1.0                  0.0  \n1158                 0.1                  0.5  \n1607                 0.5                  0.4  \n1595                 0.0                  0.6  \n2274                 0.1                  0.1  \n\n[5 rows x 26 columns]"
     },
     "execution_count": 25,
     "metadata": {},
     "output_type": "execute_result"
    }
   ],
   "source": [
    "#explode genre probabilities into separate columns\n",
    "charts_predicted_genre_prob = pd.DataFrame(chart_tracks_df[\"all_genre_prob\"].to_list(),\n",
    "                                           columns=['predicted_'+g+'_prob' for g in genres])\n",
    "charts_predicted_genre_prob['track_id'] = chart_tracks_df['track_id']\n",
    "chart_tracks_df = pd.merge(chart_tracks_df,charts_predicted_genre_prob, how='left', on='track_id')\n",
    "chart_tracks_df = chart_tracks_df.drop(columns='all_genre_prob')\n",
    "chart_tracks_df = chart_tracks_df.sort_values('predicted_genre_prob', ascending=False)\n",
    "chart_tracks_df.head()"
   ]
  },
  {
   "cell_type": "markdown",
   "metadata": {},
   "source": [
    "Check out tracks with highest assigned probability"
   ]
  },
  {
   "cell_type": "code",
   "execution_count": 26,
   "metadata": {
    "ExecuteTime": {
     "end_time": "2021-01-21T15:13:49.401423Z",
     "start_time": "2021-01-21T15:13:49.365144Z"
    }
   },
   "outputs": [
    {
     "data": {
      "text/html": "<div>\n<style scoped>\n    .dataframe tbody tr th:only-of-type {\n        vertical-align: middle;\n    }\n\n    .dataframe tbody tr th {\n        vertical-align: top;\n    }\n\n    .dataframe thead th {\n        text-align: right;\n    }\n</style>\n<table border=\"1\" class=\"dataframe\">\n  <thead>\n    <tr style=\"text-align: right;\">\n      <th></th>\n      <th>artist_name</th>\n      <th>track_name</th>\n      <th>predicted_genre</th>\n      <th>predicted_genre_prob</th>\n    </tr>\n  </thead>\n  <tbody>\n    <tr>\n      <th>376</th>\n      <td>Drake</td>\n      <td>No Long Talk</td>\n      <td>rap</td>\n      <td>1.0</td>\n    </tr>\n    <tr>\n      <th>1158</th>\n      <td>Moira Dela Torre</td>\n      <td>You Are My Sunshine</td>\n      <td>jazz</td>\n      <td>1.0</td>\n    </tr>\n    <tr>\n      <th>1607</th>\n      <td>Eminem</td>\n      <td>The Ringer</td>\n      <td>rap</td>\n      <td>1.0</td>\n    </tr>\n    <tr>\n      <th>1595</th>\n      <td>Kina Grannis</td>\n      <td>Can’t Help Falling in Love</td>\n      <td>jazz</td>\n      <td>1.0</td>\n    </tr>\n    <tr>\n      <th>2274</th>\n      <td>Geo Ong</td>\n      <td>Pekeng Kaibigan</td>\n      <td>rap</td>\n      <td>1.0</td>\n    </tr>\n    <tr>\n      <th>1155</th>\n      <td>Moira Dela Torre</td>\n      <td>Torete</td>\n      <td>rock</td>\n      <td>1.0</td>\n    </tr>\n    <tr>\n      <th>1156</th>\n      <td>Moira Dela Torre</td>\n      <td>Tagpuan</td>\n      <td>jazz</td>\n      <td>1.0</td>\n    </tr>\n    <tr>\n      <th>1590</th>\n      <td>BTS</td>\n      <td>DNA (Pedal 2 LA Mix)</td>\n      <td>rock</td>\n      <td>1.0</td>\n    </tr>\n    <tr>\n      <th>1000</th>\n      <td>Gary Valenciano</td>\n      <td>Pasko Na Sinta Ko</td>\n      <td>jazz</td>\n      <td>1.0</td>\n    </tr>\n    <tr>\n      <th>2681</th>\n      <td>Jeremy Zucker</td>\n      <td>always, i'll care</td>\n      <td>jazz</td>\n      <td>1.0</td>\n    </tr>\n    <tr>\n      <th>2133</th>\n      <td>Cardi B</td>\n      <td>Press</td>\n      <td>rap</td>\n      <td>1.0</td>\n    </tr>\n    <tr>\n      <th>1168</th>\n      <td>David Guetta</td>\n      <td>Like I Do</td>\n      <td>edm</td>\n      <td>1.0</td>\n    </tr>\n    <tr>\n      <th>221</th>\n      <td>Sage The Gemini</td>\n      <td>Now and Later</td>\n      <td>rap</td>\n      <td>1.0</td>\n    </tr>\n    <tr>\n      <th>1142</th>\n      <td>Hugh Grant</td>\n      <td>Way Back Into Love</td>\n      <td>rock</td>\n      <td>1.0</td>\n    </tr>\n    <tr>\n      <th>156</th>\n      <td>The Chainsmokers</td>\n      <td>Inside Out</td>\n      <td>edm</td>\n      <td>1.0</td>\n    </tr>\n    <tr>\n      <th>2715</th>\n      <td>Eraserheads</td>\n      <td>Alapaap</td>\n      <td>rock</td>\n      <td>1.0</td>\n    </tr>\n    <tr>\n      <th>1619</th>\n      <td>Ciara</td>\n      <td>Level Up</td>\n      <td>edm</td>\n      <td>1.0</td>\n    </tr>\n    <tr>\n      <th>2701</th>\n      <td>Stephen Speaks</td>\n      <td>Passenger Seat</td>\n      <td>rock</td>\n      <td>1.0</td>\n    </tr>\n    <tr>\n      <th>1889</th>\n      <td>Marshmello</td>\n      <td>Fly</td>\n      <td>edm</td>\n      <td>1.0</td>\n    </tr>\n    <tr>\n      <th>1513</th>\n      <td>Dynoro</td>\n      <td>In My Mind</td>\n      <td>edm</td>\n      <td>1.0</td>\n    </tr>\n  </tbody>\n</table>\n</div>",
      "text/plain": "           artist_name                  track_name predicted_genre  \\\n376              Drake                No Long Talk             rap   \n1158  Moira Dela Torre         You Are My Sunshine            jazz   \n1607            Eminem                  The Ringer             rap   \n1595      Kina Grannis  Can’t Help Falling in Love            jazz   \n2274           Geo Ong             Pekeng Kaibigan             rap   \n1155  Moira Dela Torre                      Torete            rock   \n1156  Moira Dela Torre                     Tagpuan            jazz   \n1590               BTS        DNA (Pedal 2 LA Mix)            rock   \n1000   Gary Valenciano           Pasko Na Sinta Ko            jazz   \n2681     Jeremy Zucker           always, i'll care            jazz   \n2133           Cardi B                       Press             rap   \n1168      David Guetta                   Like I Do             edm   \n221    Sage The Gemini               Now and Later             rap   \n1142        Hugh Grant          Way Back Into Love            rock   \n156   The Chainsmokers                  Inside Out             edm   \n2715       Eraserheads                     Alapaap            rock   \n1619             Ciara                    Level Up             edm   \n2701    Stephen Speaks              Passenger Seat            rock   \n1889        Marshmello                         Fly             edm   \n1513            Dynoro                  In My Mind             edm   \n\n      predicted_genre_prob  \n376                    1.0  \n1158                   1.0  \n1607                   1.0  \n1595                   1.0  \n2274                   1.0  \n1155                   1.0  \n1156                   1.0  \n1590                   1.0  \n1000                   1.0  \n2681                   1.0  \n2133                   1.0  \n1168                   1.0  \n221                    1.0  \n1142                   1.0  \n156                    1.0  \n2715                   1.0  \n1619                   1.0  \n2701                   1.0  \n1889                   1.0  \n1513                   1.0  "
     },
     "execution_count": 26,
     "metadata": {},
     "output_type": "execute_result"
    }
   ],
   "source": [
    "chart_tracks_df.groupby('predicted_genre_id').head()[['artist_name','track_name','predicted_genre','predicted_genre_prob']]"
   ]
  },
  {
   "cell_type": "markdown",
   "metadata": {},
   "source": [
    "View histogram of predicted genre probabilities"
   ]
  },
  {
   "cell_type": "code",
   "execution_count": 27,
   "metadata": {
    "ExecuteTime": {
     "end_time": "2021-01-21T15:13:49.620237Z",
     "start_time": "2021-01-21T15:13:49.404373Z"
    }
   },
   "outputs": [
    {
     "data": {
      "text/plain": "<AxesSubplot:>"
     },
     "execution_count": 27,
     "metadata": {},
     "output_type": "execute_result"
    },
    {
     "data": {
      "image/png": "[encoded data removed]",
      "text/plain": "<Figure size 432x288 with 1 Axes>"
     },
     "metadata": {
      "needs_background": "light"
     },
     "output_type": "display_data"
    }
   ],
   "source": [
    "chart_tracks_df['predicted_genre_prob'].hist()"
   ]
  },
  {
   "cell_type": "markdown",
   "metadata": {
    "ExecuteTime": {
     "end_time": "2020-10-12T17:44:50.844307Z",
     "start_time": "2020-10-12T17:44:50.836325Z"
    }
   },
   "source": [
    "Check out tally of predicted genres"
   ]
  },
  {
   "cell_type": "code",
   "execution_count": 28,
   "metadata": {
    "ExecuteTime": {
     "end_time": "2021-01-21T15:13:49.631189Z",
     "start_time": "2021-01-21T15:13:49.623019Z"
    }
   },
   "outputs": [
    {
     "data": {
      "text/plain": "rap     1169\nrock     934\nedm      840\njazz     546\nName: predicted_genre, dtype: int64"
     },
     "execution_count": 28,
     "metadata": {},
     "output_type": "execute_result"
    }
   ],
   "source": [
    "chart_tracks_df['predicted_genre'].value_counts()"
   ]
  },
  {
   "cell_type": "markdown",
   "metadata": {},
   "source": [
    ">Q **Spot Check**: Check out a song you're familiar with and see if the predicted genres and probabilities makes sense"
   ]
  },
  {
   "cell_type": "code",
   "execution_count": 29,
   "metadata": {
    "ExecuteTime": {
     "end_time": "2021-02-03T06:38:58.383436Z",
     "start_time": "2021-02-03T06:38:58.252538Z"
    }
   },
   "outputs": [
    {
     "data": {
      "text/html": "<div>\n<style scoped>\n    .dataframe tbody tr th:only-of-type {\n        vertical-align: middle;\n    }\n\n    .dataframe tbody tr th {\n        vertical-align: top;\n    }\n\n    .dataframe thead th {\n        text-align: right;\n    }\n</style>\n<table border=\"1\" class=\"dataframe\">\n  <thead>\n    <tr style=\"text-align: right;\">\n      <th></th>\n      <th>track_id</th>\n      <th>track_name</th>\n      <th>artist_id</th>\n      <th>artist_name</th>\n      <th>album_id</th>\n      <th>duration</th>\n      <th>release_date</th>\n      <th>popularity</th>\n      <th>danceability</th>\n      <th>energy</th>\n      <th>...</th>\n      <th>liveness</th>\n      <th>valence</th>\n      <th>tempo</th>\n      <th>predicted_genre_id</th>\n      <th>predicted_genre</th>\n      <th>predicted_genre_prob</th>\n      <th>predicted_edm_prob</th>\n      <th>predicted_jazz_prob</th>\n      <th>predicted_rap_prob</th>\n      <th>predicted_rock_prob</th>\n    </tr>\n  </thead>\n  <tbody>\n    <tr>\n      <th>2786</th>\n      <td>1IX47gefluXmKX4PrTBCRM</td>\n      <td>What is Love</td>\n      <td>7n2Ycct7Beij7Dj7meI4X0</td>\n      <td>TWICE</td>\n      <td>35LVzMbjGUCfYZYEP6YWyr</td>\n      <td>208240</td>\n      <td>2018-07-09</td>\n      <td>46</td>\n      <td>0.574</td>\n      <td>0.909</td>\n      <td>...</td>\n      <td>0.264</td>\n      <td>0.565</td>\n      <td>0.722332</td>\n      <td>3</td>\n      <td>rock</td>\n      <td>0.6</td>\n      <td>0.4</td>\n      <td>0.1</td>\n      <td>0.4</td>\n      <td>0.1</td>\n    </tr>\n  </tbody>\n</table>\n<p>1 rows × 26 columns</p>\n</div>",
      "text/plain": "                    track_id    track_name               artist_id  \\\n2786  1IX47gefluXmKX4PrTBCRM  What is Love  7n2Ycct7Beij7Dj7meI4X0   \n\n     artist_name                album_id  duration release_date  popularity  \\\n2786       TWICE  35LVzMbjGUCfYZYEP6YWyr    208240   2018-07-09          46   \n\n      danceability  energy  ...  liveness  valence     tempo  \\\n2786         0.574   0.909  ...     0.264    0.565  0.722332   \n\n      predicted_genre_id  predicted_genre  predicted_genre_prob  \\\n2786                   3             rock                   0.6   \n\n      predicted_edm_prob  predicted_jazz_prob  predicted_rap_prob  \\\n2786                 0.4                  0.1                 0.4   \n\n      predicted_rock_prob  \n2786                  0.1  \n\n[1 rows x 26 columns]"
     },
     "execution_count": 29,
     "metadata": {},
     "output_type": "execute_result"
    }
   ],
   "source": [
    "this_song = 'SONG NAME HERE'\n",
    "chart_tracks_df[chart_tracks_df['track_name']=='What is Love']"
   ]
  },
  {
   "cell_type": "code",
   "execution_count": null,
   "metadata": {},
   "outputs": [],
   "source": []
  },
  {
   "cell_type": "code",
   "execution_count": 30,
   "metadata": {
    "ExecuteTime": {
     "end_time": "2021-01-21T15:13:49.757245Z",
     "start_time": "2021-01-21T15:13:49.669794Z"
    }
   },
   "outputs": [],
   "source": [
    "#save data\n",
    "chart_tracks_df.to_csv(\"data/spotify_daily_charts_tracks_predicted_genres.csv\", index=False, encoding='utf-8')"
   ]
  },
  {
   "cell_type": "markdown",
   "metadata": {},
   "source": [
    "## Part 2. Recommender Engine"
   ]
  },
  {
   "cell_type": "code",
   "execution_count": 31,
   "metadata": {},
   "outputs": [
    {
     "data": {
      "text/html": "<div>\n<style scoped>\n    .dataframe tbody tr th:only-of-type {\n        vertical-align: middle;\n    }\n\n    .dataframe tbody tr th {\n        vertical-align: top;\n    }\n\n    .dataframe thead th {\n        text-align: right;\n    }\n</style>\n<table border=\"1\" class=\"dataframe\">\n  <thead>\n    <tr style=\"text-align: right;\">\n      <th></th>\n      <th>track_id</th>\n      <th>track_name</th>\n      <th>artist_id</th>\n      <th>artist_name</th>\n      <th>album_id</th>\n      <th>duration</th>\n      <th>release_date</th>\n      <th>popularity</th>\n      <th>danceability</th>\n      <th>energy</th>\n      <th>...</th>\n      <th>liveness</th>\n      <th>valence</th>\n      <th>tempo</th>\n      <th>predicted_genre_id</th>\n      <th>predicted_genre</th>\n      <th>predicted_genre_prob</th>\n      <th>predicted_edm_prob</th>\n      <th>predicted_jazz_prob</th>\n      <th>predicted_rap_prob</th>\n      <th>predicted_rock_prob</th>\n    </tr>\n  </thead>\n  <tbody>\n    <tr>\n      <th>0</th>\n      <td>6CfrYuD3YRDYdYvH9jNtXY</td>\n      <td>No Long Talk</td>\n      <td>3TVXtAsR1Inumwj472S9r4</td>\n      <td>Drake</td>\n      <td>1lXY618HWkwYKJWBRYR4MK</td>\n      <td>149568</td>\n      <td>2017-03-18</td>\n      <td>60</td>\n      <td>0.913</td>\n      <td>0.6080</td>\n      <td>...</td>\n      <td>0.533</td>\n      <td>0.578</td>\n      <td>0.273760</td>\n      <td>2</td>\n      <td>rap</td>\n      <td>1.0</td>\n      <td>0.0</td>\n      <td>0.0</td>\n      <td>1.0</td>\n      <td>0.0</td>\n    </tr>\n    <tr>\n      <th>1</th>\n      <td>4hEcAsNF6RG9VCV7xElgCG</td>\n      <td>You Are My Sunshine</td>\n      <td>0rZRTXEmmPmx6gt92tBqIc</td>\n      <td>Moira Dela Torre</td>\n      <td>05rQadwAVYTpNNnBoeTuj0</td>\n      <td>164320</td>\n      <td>2018-02-19</td>\n      <td>56</td>\n      <td>0.492</td>\n      <td>0.2350</td>\n      <td>...</td>\n      <td>0.179</td>\n      <td>0.362</td>\n      <td>0.401746</td>\n      <td>1</td>\n      <td>jazz</td>\n      <td>1.0</td>\n      <td>0.3</td>\n      <td>0.1</td>\n      <td>0.1</td>\n      <td>0.5</td>\n    </tr>\n    <tr>\n      <th>2</th>\n      <td>2jt2WxXMCD4zjACthkJQVE</td>\n      <td>The Ringer</td>\n      <td>7dGJo4pcD2V6oG8kP0tJRR</td>\n      <td>Eminem</td>\n      <td>3HNnxK7NgLXbDoxRZxNWiR</td>\n      <td>337941</td>\n      <td>2018-08-31</td>\n      <td>69</td>\n      <td>0.939</td>\n      <td>0.5510</td>\n      <td>...</td>\n      <td>0.192</td>\n      <td>0.420</td>\n      <td>0.405986</td>\n      <td>2</td>\n      <td>rap</td>\n      <td>1.0</td>\n      <td>0.1</td>\n      <td>0.0</td>\n      <td>0.5</td>\n      <td>0.4</td>\n    </tr>\n    <tr>\n      <th>3</th>\n      <td>7uuEfUMuPeQ7RlSWa0cES2</td>\n      <td>Can’t Help Falling in Love</td>\n      <td>7h4j9YTJJuAHzLCc3KCvYu</td>\n      <td>Kina Grannis</td>\n      <td>32BVrPjwweOQcHKKpxgE4l</td>\n      <td>201933</td>\n      <td>2018-08-10</td>\n      <td>0</td>\n      <td>0.266</td>\n      <td>0.0596</td>\n      <td>...</td>\n      <td>0.132</td>\n      <td>0.143</td>\n      <td>0.794792</td>\n      <td>1</td>\n      <td>jazz</td>\n      <td>1.0</td>\n      <td>0.0</td>\n      <td>0.4</td>\n      <td>0.0</td>\n      <td>0.6</td>\n    </tr>\n    <tr>\n      <th>4</th>\n      <td>19AlSgwI1midC2PU1TDkeF</td>\n      <td>Pekeng Kaibigan</td>\n      <td>1vcXQE9gZOF9PCAtdtT51L</td>\n      <td>Geo Ong</td>\n      <td>3A5uVKYCA9EJ6AIIIvHvdc</td>\n      <td>249085</td>\n      <td>2019-02-11</td>\n      <td>47</td>\n      <td>0.953</td>\n      <td>0.5800</td>\n      <td>...</td>\n      <td>0.108</td>\n      <td>0.765</td>\n      <td>0.452165</td>\n      <td>2</td>\n      <td>rap</td>\n      <td>1.0</td>\n      <td>0.8</td>\n      <td>0.0</td>\n      <td>0.1</td>\n      <td>0.1</td>\n    </tr>\n  </tbody>\n</table>\n<p>5 rows × 26 columns</p>\n</div>",
      "text/plain": "                 track_id                  track_name               artist_id  \\\n0  6CfrYuD3YRDYdYvH9jNtXY                No Long Talk  3TVXtAsR1Inumwj472S9r4   \n1  4hEcAsNF6RG9VCV7xElgCG         You Are My Sunshine  0rZRTXEmmPmx6gt92tBqIc   \n2  2jt2WxXMCD4zjACthkJQVE                  The Ringer  7dGJo4pcD2V6oG8kP0tJRR   \n3  7uuEfUMuPeQ7RlSWa0cES2  Can’t Help Falling in Love  7h4j9YTJJuAHzLCc3KCvYu   \n4  19AlSgwI1midC2PU1TDkeF             Pekeng Kaibigan  1vcXQE9gZOF9PCAtdtT51L   \n\n        artist_name                album_id  duration release_date  \\\n0             Drake  1lXY618HWkwYKJWBRYR4MK    149568   2017-03-18   \n1  Moira Dela Torre  05rQadwAVYTpNNnBoeTuj0    164320   2018-02-19   \n2            Eminem  3HNnxK7NgLXbDoxRZxNWiR    337941   2018-08-31   \n3      Kina Grannis  32BVrPjwweOQcHKKpxgE4l    201933   2018-08-10   \n4           Geo Ong  3A5uVKYCA9EJ6AIIIvHvdc    249085   2019-02-11   \n\n   popularity  danceability  energy  ...  liveness  valence     tempo  \\\n0          60         0.913  0.6080  ...     0.533    0.578  0.273760   \n1          56         0.492  0.2350  ...     0.179    0.362  0.401746   \n2          69         0.939  0.5510  ...     0.192    0.420  0.405986   \n3           0         0.266  0.0596  ...     0.132    0.143  0.794792   \n4          47         0.953  0.5800  ...     0.108    0.765  0.452165   \n\n   predicted_genre_id  predicted_genre  predicted_genre_prob  \\\n0                   2              rap                   1.0   \n1                   1             jazz                   1.0   \n2                   2              rap                   1.0   \n3                   1             jazz                   1.0   \n4                   2              rap                   1.0   \n\n   predicted_edm_prob  predicted_jazz_prob  predicted_rap_prob  \\\n0                 0.0                  0.0                 1.0   \n1                 0.3                  0.1                 0.1   \n2                 0.1                  0.0                 0.5   \n3                 0.0                  0.4                 0.0   \n4                 0.8                  0.0                 0.1   \n\n   predicted_rock_prob  \n0                  0.0  \n1                  0.5  \n2                  0.4  \n3                  0.6  \n4                  0.1  \n\n[5 rows x 26 columns]"
     },
     "execution_count": 31,
     "metadata": {},
     "output_type": "execute_result"
    }
   ],
   "source": [
    "#read data\n",
    "chart_tracks_df=pd.read_csv(\"data/spotify_daily_charts_tracks_predicted_genres.csv\")\n",
    "#normalize loudness and tempo\n",
    "scaler = MinMaxScaler()\n",
    "chart_tracks_df['loudness'] = scaler.fit_transform(chart_tracks_df[['loudness']])\n",
    "chart_tracks_df['tempo'] =  scaler.fit_transform(chart_tracks_df[['tempo']])\n",
    "chart_tracks_df.head()"
   ]
  },
  {
   "cell_type": "code",
   "execution_count": 32,
   "metadata": {},
   "outputs": [
    {
     "data": {
      "text/plain": "duration                194393.666667\npopularity                  64.444444\ndanceability                 0.657222\nenergy                       0.735444\nkey                          4.333333\nloudness                     0.778014\nmode                         0.111111\nspeechiness                  0.066456\nacousticness                 0.097332\ninstrumentalness             0.001612\nliveness                     0.167878\nvalence                      0.498444\ntempo                        0.409190\npredicted_genre_id           1.111111\npredicted_genre_prob         0.633333\npredicted_edm_prob           0.188889\npredicted_jazz_prob          0.155556\npredicted_rap_prob           0.500000\npredicted_rock_prob          0.155556\nName: mean, dtype: float64"
     },
     "execution_count": 32,
     "metadata": {},
     "output_type": "execute_result"
    }
   ],
   "source": [
    "chart_tracks_df[chart_tracks_df['artist_name']==\"David Guetta\"]\r\n",
    "\r\n",
    "seed_track_ave = chart_tracks_df[chart_tracks_df['artist_name']==\"David Guetta\"]\r\n",
    "seed_track_ave = seed_track_ave.describe()\r\n",
    "seed_track_ave = seed_track_ave.loc['mean']\r\n",
    "seed_track_ave"
   ]
  },
  {
   "cell_type": "code",
   "execution_count": null,
   "metadata": {},
   "outputs": [],
   "source": []
  },
  {
   "cell_type": "code",
   "execution_count": null,
   "metadata": {},
   "outputs": [],
   "source": []
  },
  {
   "cell_type": "code",
   "execution_count": 33,
   "metadata": {},
   "outputs": [
    {
     "data": {
      "text/plain": "duration                194393.666667\npopularity                  64.444444\ndanceability                 0.657222\nenergy                       0.735444\nkey                          4.333333\nloudness                     0.778014\nmode                         0.111111\nspeechiness                  0.066456\nacousticness                 0.097332\ninstrumentalness             0.001612\nliveness                     0.167878\nvalence                      0.498444\ntempo                        0.409190\npredicted_genre_id           1.111111\npredicted_genre_prob         0.633333\npredicted_edm_prob           0.188889\npredicted_jazz_prob          0.155556\npredicted_rap_prob           0.500000\npredicted_rock_prob          0.155556\nName: mean, dtype: float64"
     },
     "execution_count": 33,
     "metadata": {},
     "output_type": "execute_result"
    }
   ],
   "source": [
    "seed_track_ave"
   ]
  },
  {
   "cell_type": "code",
   "execution_count": 34,
   "metadata": {},
   "outputs": [
    {
     "data": {
      "text/plain": "danceability        0.657222\nenergy              0.735444\nloudness            0.778014\nspeechiness         0.066456\nacousticness        0.097332\ninstrumentalness    0.001612\nliveness            0.167878\nvalence             0.498444\ntempo               0.409190\nName: mean, dtype: float64"
     },
     "execution_count": 34,
     "metadata": {},
     "output_type": "execute_result"
    }
   ],
   "source": [
    "# Input seed track here\r\n",
    "seed_track_name = \"Like I Do\"\r\n",
    "seed_track_ave[feature_cols]"
   ]
  },
  {
   "cell_type": "code",
   "execution_count": 35,
   "metadata": {},
   "outputs": [],
   "source": [
    "feature_cols = ['danceability', 'energy', 'loudness', 'speechiness', 'acousticness', 'instrumentalness',\\\n",
    "                'liveness', 'valence', 'tempo']"
   ]
  },
  {
   "cell_type": "code",
   "execution_count": 36,
   "metadata": {},
   "outputs": [
    {
     "data": {
      "text/plain": "track_id                6RnkFd8Fqqgk1Uni8RgqCQ\ntrack_name                           Like I Do\nartist_id               1Cs0zKBU1kc0i8ypK3B9ai\nartist_name                       David Guetta\nalbum_id                5oU1ROIHS6IOWnb87GWhqU\nduration                                202500\nrelease_date                        2018-02-22\npopularity                                  68\ndanceability                             0.635\nenergy                                     0.9\nkey                                        0.0\nloudness                              0.840573\nmode                                       0.0\nspeechiness                             0.0377\nacousticness                           0.00664\ninstrumentalness                        0.0145\nliveness                                  0.37\nvalence                                   0.15\ntempo                                 0.463986\npredicted_genre_id                           0\npredicted_genre                            edm\npredicted_genre_prob                       1.0\npredicted_edm_prob                         0.5\npredicted_jazz_prob                        0.0\npredicted_rap_prob                         0.5\npredicted_rock_prob                        0.0\nName: 14, dtype: object"
     },
     "execution_count": 36,
     "metadata": {},
     "output_type": "execute_result"
    }
   ],
   "source": [
    "seed_track_data = chart_tracks_df[chart_tracks_df['track_name']==seed_track_name].iloc[0]\r\n",
    "seed_track_data[feature_cols]\r\n",
    "seed_track_data"
   ]
  },
  {
   "cell_type": "code",
   "execution_count": 37,
   "metadata": {},
   "outputs": [
    {
     "data": {
      "text/html": "<div>\n<style scoped>\n    .dataframe tbody tr th:only-of-type {\n        vertical-align: middle;\n    }\n\n    .dataframe tbody tr th {\n        vertical-align: top;\n    }\n\n    .dataframe thead th {\n        text-align: right;\n    }\n</style>\n<table border=\"1\" class=\"dataframe\">\n  <thead>\n    <tr style=\"text-align: right;\">\n      <th></th>\n      <th>track_id</th>\n      <th>track_name</th>\n      <th>artist_id</th>\n      <th>artist_name</th>\n      <th>album_id</th>\n      <th>duration</th>\n      <th>release_date</th>\n      <th>popularity</th>\n      <th>danceability</th>\n      <th>energy</th>\n      <th>...</th>\n      <th>valence</th>\n      <th>tempo</th>\n      <th>predicted_genre_id</th>\n      <th>predicted_genre</th>\n      <th>predicted_genre_prob</th>\n      <th>predicted_edm_prob</th>\n      <th>predicted_jazz_prob</th>\n      <th>predicted_rap_prob</th>\n      <th>predicted_rock_prob</th>\n      <th>cosine_dist</th>\n    </tr>\n  </thead>\n  <tbody>\n    <tr>\n      <th>0</th>\n      <td>6CfrYuD3YRDYdYvH9jNtXY</td>\n      <td>No Long Talk</td>\n      <td>3TVXtAsR1Inumwj472S9r4</td>\n      <td>Drake</td>\n      <td>1lXY618HWkwYKJWBRYR4MK</td>\n      <td>149568</td>\n      <td>2017-03-18</td>\n      <td>60</td>\n      <td>0.913</td>\n      <td>0.6080</td>\n      <td>...</td>\n      <td>0.578</td>\n      <td>0.273760</td>\n      <td>2</td>\n      <td>rap</td>\n      <td>1.0</td>\n      <td>0.0</td>\n      <td>0.0</td>\n      <td>1.0</td>\n      <td>0.0</td>\n      <td>0.056372</td>\n    </tr>\n    <tr>\n      <th>1</th>\n      <td>4hEcAsNF6RG9VCV7xElgCG</td>\n      <td>You Are My Sunshine</td>\n      <td>0rZRTXEmmPmx6gt92tBqIc</td>\n      <td>Moira Dela Torre</td>\n      <td>05rQadwAVYTpNNnBoeTuj0</td>\n      <td>164320</td>\n      <td>2018-02-19</td>\n      <td>56</td>\n      <td>0.492</td>\n      <td>0.2350</td>\n      <td>...</td>\n      <td>0.362</td>\n      <td>0.401746</td>\n      <td>1</td>\n      <td>jazz</td>\n      <td>1.0</td>\n      <td>0.3</td>\n      <td>0.1</td>\n      <td>0.1</td>\n      <td>0.5</td>\n      <td>0.260083</td>\n    </tr>\n    <tr>\n      <th>2</th>\n      <td>2jt2WxXMCD4zjACthkJQVE</td>\n      <td>The Ringer</td>\n      <td>7dGJo4pcD2V6oG8kP0tJRR</td>\n      <td>Eminem</td>\n      <td>3HNnxK7NgLXbDoxRZxNWiR</td>\n      <td>337941</td>\n      <td>2018-08-31</td>\n      <td>69</td>\n      <td>0.939</td>\n      <td>0.5510</td>\n      <td>...</td>\n      <td>0.420</td>\n      <td>0.405986</td>\n      <td>2</td>\n      <td>rap</td>\n      <td>1.0</td>\n      <td>0.1</td>\n      <td>0.0</td>\n      <td>0.5</td>\n      <td>0.4</td>\n      <td>0.049205</td>\n    </tr>\n    <tr>\n      <th>3</th>\n      <td>7uuEfUMuPeQ7RlSWa0cES2</td>\n      <td>Can’t Help Falling in Love</td>\n      <td>7h4j9YTJJuAHzLCc3KCvYu</td>\n      <td>Kina Grannis</td>\n      <td>32BVrPjwweOQcHKKpxgE4l</td>\n      <td>201933</td>\n      <td>2018-08-10</td>\n      <td>0</td>\n      <td>0.266</td>\n      <td>0.0596</td>\n      <td>...</td>\n      <td>0.143</td>\n      <td>0.794792</td>\n      <td>1</td>\n      <td>jazz</td>\n      <td>1.0</td>\n      <td>0.0</td>\n      <td>0.4</td>\n      <td>0.0</td>\n      <td>0.6</td>\n      <td>0.498575</td>\n    </tr>\n    <tr>\n      <th>4</th>\n      <td>19AlSgwI1midC2PU1TDkeF</td>\n      <td>Pekeng Kaibigan</td>\n      <td>1vcXQE9gZOF9PCAtdtT51L</td>\n      <td>Geo Ong</td>\n      <td>3A5uVKYCA9EJ6AIIIvHvdc</td>\n      <td>249085</td>\n      <td>2019-02-11</td>\n      <td>47</td>\n      <td>0.953</td>\n      <td>0.5800</td>\n      <td>...</td>\n      <td>0.765</td>\n      <td>0.452165</td>\n      <td>2</td>\n      <td>rap</td>\n      <td>1.0</td>\n      <td>0.8</td>\n      <td>0.0</td>\n      <td>0.1</td>\n      <td>0.1</td>\n      <td>0.053341</td>\n    </tr>\n    <tr>\n      <th>...</th>\n      <td>...</td>\n      <td>...</td>\n      <td>...</td>\n      <td>...</td>\n      <td>...</td>\n      <td>...</td>\n      <td>...</td>\n      <td>...</td>\n      <td>...</td>\n      <td>...</td>\n      <td>...</td>\n      <td>...</td>\n      <td>...</td>\n      <td>...</td>\n      <td>...</td>\n      <td>...</td>\n      <td>...</td>\n      <td>...</td>\n      <td>...</td>\n      <td>...</td>\n      <td>...</td>\n    </tr>\n    <tr>\n      <th>3484</th>\n      <td>6PJ8FF6UR8FZXfEvpHkIVN</td>\n      <td>How Would You Feel (Paean)</td>\n      <td>6eUKZXaKkcviH0Ku9w2n3V</td>\n      <td>Ed Sheeran</td>\n      <td>3T4tUhGYeRNVUGevb0wThu</td>\n      <td>280533</td>\n      <td>2017-03-03</td>\n      <td>69</td>\n      <td>0.617</td>\n      <td>0.4390</td>\n      <td>...</td>\n      <td>0.242</td>\n      <td>0.537830</td>\n      <td>2</td>\n      <td>rap</td>\n      <td>0.3</td>\n      <td>0.2</td>\n      <td>0.2</td>\n      <td>0.3</td>\n      <td>0.3</td>\n      <td>0.071714</td>\n    </tr>\n    <tr>\n      <th>3485</th>\n      <td>1Hu42ZLWG9dHaVOPiWyEmE</td>\n      <td>Beautiful Scars</td>\n      <td>2Q9c6ETFOkDDTy53U7DIgr</td>\n      <td>Maximillian</td>\n      <td>1mTP6AfzT0v0eaihtcXOxe</td>\n      <td>194757</td>\n      <td>2020-10-23</td>\n      <td>69</td>\n      <td>0.706</td>\n      <td>0.4570</td>\n      <td>...</td>\n      <td>0.427</td>\n      <td>0.568491</td>\n      <td>1</td>\n      <td>jazz</td>\n      <td>0.3</td>\n      <td>0.7</td>\n      <td>0.0</td>\n      <td>0.0</td>\n      <td>0.3</td>\n      <td>0.052249</td>\n    </tr>\n    <tr>\n      <th>3486</th>\n      <td>1Bxzw8ag71snOU9IbhXVD6</td>\n      <td>Kids in Love (feat. The Night Game)</td>\n      <td>23fqKkggKUBHNkbKtXEls4</td>\n      <td>Kygo</td>\n      <td>5PwJQShNbsoWSKZ9VPEHTY</td>\n      <td>263400</td>\n      <td>2017-11-03</td>\n      <td>0</td>\n      <td>0.499</td>\n      <td>0.6730</td>\n      <td>...</td>\n      <td>0.301</td>\n      <td>0.426402</td>\n      <td>0</td>\n      <td>edm</td>\n      <td>0.3</td>\n      <td>0.3</td>\n      <td>0.0</td>\n      <td>0.0</td>\n      <td>0.7</td>\n      <td>0.040739</td>\n    </tr>\n    <tr>\n      <th>3487</th>\n      <td>0iw0EuzmMKMYvZuQYW8DBA</td>\n      <td>Beautiful Scars</td>\n      <td>2Q9c6ETFOkDDTy53U7DIgr</td>\n      <td>Maximillian</td>\n      <td>7BlA5zKQZfCcyUIe7lfdSs</td>\n      <td>194757</td>\n      <td>2019-02-22</td>\n      <td>0</td>\n      <td>0.700</td>\n      <td>0.4570</td>\n      <td>...</td>\n      <td>0.433</td>\n      <td>0.568140</td>\n      <td>1</td>\n      <td>jazz</td>\n      <td>0.3</td>\n      <td>0.0</td>\n      <td>0.0</td>\n      <td>0.2</td>\n      <td>0.8</td>\n      <td>0.051837</td>\n    </tr>\n    <tr>\n      <th>3488</th>\n      <td>48XfojJC87VKLlUotYV0Gm</td>\n      <td>The Truth Untold</td>\n      <td>3Nrfpe0tUJi4K4DXYWgMUX</td>\n      <td>BTS</td>\n      <td>2jJfnAZE6IG3oYnUv2eCj4</td>\n      <td>242292</td>\n      <td>2018-05-18</td>\n      <td>71</td>\n      <td>0.570</td>\n      <td>0.4220</td>\n      <td>...</td>\n      <td>0.169</td>\n      <td>0.371867</td>\n      <td>1</td>\n      <td>jazz</td>\n      <td>0.3</td>\n      <td>0.4</td>\n      <td>0.0</td>\n      <td>0.0</td>\n      <td>0.6</td>\n      <td>0.067323</td>\n    </tr>\n  </tbody>\n</table>\n<p>3489 rows × 27 columns</p>\n</div>",
      "text/plain": "                    track_id                           track_name  \\\n0     6CfrYuD3YRDYdYvH9jNtXY                         No Long Talk   \n1     4hEcAsNF6RG9VCV7xElgCG                  You Are My Sunshine   \n2     2jt2WxXMCD4zjACthkJQVE                           The Ringer   \n3     7uuEfUMuPeQ7RlSWa0cES2           Can’t Help Falling in Love   \n4     19AlSgwI1midC2PU1TDkeF                      Pekeng Kaibigan   \n...                      ...                                  ...   \n3484  6PJ8FF6UR8FZXfEvpHkIVN           How Would You Feel (Paean)   \n3485  1Hu42ZLWG9dHaVOPiWyEmE                      Beautiful Scars   \n3486  1Bxzw8ag71snOU9IbhXVD6  Kids in Love (feat. The Night Game)   \n3487  0iw0EuzmMKMYvZuQYW8DBA                      Beautiful Scars   \n3488  48XfojJC87VKLlUotYV0Gm                     The Truth Untold   \n\n                   artist_id       artist_name                album_id  \\\n0     3TVXtAsR1Inumwj472S9r4             Drake  1lXY618HWkwYKJWBRYR4MK   \n1     0rZRTXEmmPmx6gt92tBqIc  Moira Dela Torre  05rQadwAVYTpNNnBoeTuj0   \n2     7dGJo4pcD2V6oG8kP0tJRR            Eminem  3HNnxK7NgLXbDoxRZxNWiR   \n3     7h4j9YTJJuAHzLCc3KCvYu      Kina Grannis  32BVrPjwweOQcHKKpxgE4l   \n4     1vcXQE9gZOF9PCAtdtT51L           Geo Ong  3A5uVKYCA9EJ6AIIIvHvdc   \n...                      ...               ...                     ...   \n3484  6eUKZXaKkcviH0Ku9w2n3V        Ed Sheeran  3T4tUhGYeRNVUGevb0wThu   \n3485  2Q9c6ETFOkDDTy53U7DIgr       Maximillian  1mTP6AfzT0v0eaihtcXOxe   \n3486  23fqKkggKUBHNkbKtXEls4              Kygo  5PwJQShNbsoWSKZ9VPEHTY   \n3487  2Q9c6ETFOkDDTy53U7DIgr       Maximillian  7BlA5zKQZfCcyUIe7lfdSs   \n3488  3Nrfpe0tUJi4K4DXYWgMUX               BTS  2jJfnAZE6IG3oYnUv2eCj4   \n\n      duration release_date  popularity  danceability  energy  ...  valence  \\\n0       149568   2017-03-18          60         0.913  0.6080  ...    0.578   \n1       164320   2018-02-19          56         0.492  0.2350  ...    0.362   \n2       337941   2018-08-31          69         0.939  0.5510  ...    0.420   \n3       201933   2018-08-10           0         0.266  0.0596  ...    0.143   \n4       249085   2019-02-11          47         0.953  0.5800  ...    0.765   \n...        ...          ...         ...           ...     ...  ...      ...   \n3484    280533   2017-03-03          69         0.617  0.4390  ...    0.242   \n3485    194757   2020-10-23          69         0.706  0.4570  ...    0.427   \n3486    263400   2017-11-03           0         0.499  0.6730  ...    0.301   \n3487    194757   2019-02-22           0         0.700  0.4570  ...    0.433   \n3488    242292   2018-05-18          71         0.570  0.4220  ...    0.169   \n\n         tempo  predicted_genre_id  predicted_genre  predicted_genre_prob  \\\n0     0.273760                   2              rap                   1.0   \n1     0.401746                   1             jazz                   1.0   \n2     0.405986                   2              rap                   1.0   \n3     0.794792                   1             jazz                   1.0   \n4     0.452165                   2              rap                   1.0   \n...        ...                 ...              ...                   ...   \n3484  0.537830                   2              rap                   0.3   \n3485  0.568491                   1             jazz                   0.3   \n3486  0.426402                   0              edm                   0.3   \n3487  0.568140                   1             jazz                   0.3   \n3488  0.371867                   1             jazz                   0.3   \n\n      predicted_edm_prob  predicted_jazz_prob  predicted_rap_prob  \\\n0                    0.0                  0.0                 1.0   \n1                    0.3                  0.1                 0.1   \n2                    0.1                  0.0                 0.5   \n3                    0.0                  0.4                 0.0   \n4                    0.8                  0.0                 0.1   \n...                  ...                  ...                 ...   \n3484                 0.2                  0.2                 0.3   \n3485                 0.7                  0.0                 0.0   \n3486                 0.3                  0.0                 0.0   \n3487                 0.0                  0.0                 0.2   \n3488                 0.4                  0.0                 0.0   \n\n      predicted_rock_prob  cosine_dist  \n0                     0.0     0.056372  \n1                     0.5     0.260083  \n2                     0.4     0.049205  \n3                     0.6     0.498575  \n4                     0.1     0.053341  \n...                   ...          ...  \n3484                  0.3     0.071714  \n3485                  0.3     0.052249  \n3486                  0.7     0.040739  \n3487                  0.8     0.051837  \n3488                  0.6     0.067323  \n\n[3489 rows x 27 columns]"
     },
     "execution_count": 37,
     "metadata": {},
     "output_type": "execute_result"
    }
   ],
   "source": [
    "#compute cosine distances, audio features only\r\n",
    "chart_tracks_df['cosine_dist'] = chart_tracks_df.apply(lambda x: 1-cosine_similarity(x[feature_cols].values.reshape(1, -1),\\\r\n",
    "                                                                  seed_track_ave[feature_cols].values.reshape(1, -1))\\\r\n",
    "                                                                  .flatten()[0], axis=1)\r\n",
    "chart_tracks_df"
   ]
  },
  {
   "cell_type": "code",
   "execution_count": 38,
   "metadata": {},
   "outputs": [
    {
     "data": {
      "text/plain": "array([[0.65722222, 0.73544444, 0.77801433, 0.06645556, 0.09733222,\n        0.00161205, 0.16787778, 0.49844444, 0.40918955]])"
     },
     "execution_count": 38,
     "metadata": {},
     "output_type": "execute_result"
    }
   ],
   "source": [
    "seed_track_ave[feature_cols].values.reshape(1, -1)"
   ]
  },
  {
   "cell_type": "code",
   "execution_count": 39,
   "metadata": {
    "ExecuteTime": {
     "end_time": "2021-02-03T06:52:33.691603Z",
     "start_time": "2021-02-03T06:52:33.678504Z"
    }
   },
   "outputs": [
    {
     "data": {
      "text/html": "<div>\n<style scoped>\n    .dataframe tbody tr th:only-of-type {\n        vertical-align: middle;\n    }\n\n    .dataframe tbody tr th {\n        vertical-align: top;\n    }\n\n    .dataframe thead th {\n        text-align: right;\n    }\n</style>\n<table border=\"1\" class=\"dataframe\">\n  <thead>\n    <tr style=\"text-align: right;\">\n      <th></th>\n      <th>track_name</th>\n      <th>artist_name</th>\n      <th>cosine_dist</th>\n      <th>predicted_genre</th>\n      <th>danceability</th>\n      <th>energy</th>\n      <th>loudness</th>\n      <th>speechiness</th>\n      <th>acousticness</th>\n      <th>instrumentalness</th>\n      <th>liveness</th>\n      <th>valence</th>\n      <th>tempo</th>\n    </tr>\n  </thead>\n  <tbody>\n    <tr>\n      <th>620</th>\n      <td>Don't Leave Me Alone (feat. Anne-Marie)</td>\n      <td>David Guetta</td>\n      <td>0.001650</td>\n      <td>edm</td>\n      <td>0.659</td>\n      <td>0.738</td>\n      <td>0.785179</td>\n      <td>0.0477</td>\n      <td>0.1180</td>\n      <td>0.000000</td>\n      <td>0.1150</td>\n      <td>0.481</td>\n      <td>0.463813</td>\n    </tr>\n    <tr>\n      <th>2241</th>\n      <td>Know No Better (feat. Travis Scott, Camila Cab...</td>\n      <td>Major Lazer</td>\n      <td>0.002189</td>\n      <td>rap</td>\n      <td>0.738</td>\n      <td>0.814</td>\n      <td>0.812119</td>\n      <td>0.0999</td>\n      <td>0.1320</td>\n      <td>0.000010</td>\n      <td>0.1260</td>\n      <td>0.483</td>\n      <td>0.408995</td>\n    </tr>\n    <tr>\n      <th>2364</th>\n      <td>Something Just Like This</td>\n      <td>The Chainsmokers</td>\n      <td>0.002214</td>\n      <td>rock</td>\n      <td>0.617</td>\n      <td>0.635</td>\n      <td>0.715701</td>\n      <td>0.0317</td>\n      <td>0.0498</td>\n      <td>0.000014</td>\n      <td>0.1640</td>\n      <td>0.446</td>\n      <td>0.310409</td>\n    </tr>\n    <tr>\n      <th>3337</th>\n      <td>Crystal Snow</td>\n      <td>BTS</td>\n      <td>0.002240</td>\n      <td>rock</td>\n      <td>0.618</td>\n      <td>0.768</td>\n      <td>0.809744</td>\n      <td>0.0323</td>\n      <td>0.1260</td>\n      <td>0.000000</td>\n      <td>0.1200</td>\n      <td>0.483</td>\n      <td>0.377681</td>\n    </tr>\n    <tr>\n      <th>2823</th>\n      <td>TRICK IT</td>\n      <td>TWICE</td>\n      <td>0.002298</td>\n      <td>edm</td>\n      <td>0.756</td>\n      <td>0.897</td>\n      <td>0.829150</td>\n      <td>0.0780</td>\n      <td>0.0895</td>\n      <td>0.000017</td>\n      <td>0.1400</td>\n      <td>0.619</td>\n      <td>0.464355</td>\n    </tr>\n    <tr>\n      <th>3282</th>\n      <td>Two High</td>\n      <td>Moon Taxi</td>\n      <td>0.002322</td>\n      <td>rock</td>\n      <td>0.649</td>\n      <td>0.762</td>\n      <td>0.781863</td>\n      <td>0.0447</td>\n      <td>0.0852</td>\n      <td>0.003830</td>\n      <td>0.1180</td>\n      <td>0.480</td>\n      <td>0.335114</td>\n    </tr>\n    <tr>\n      <th>3003</th>\n      <td>MY TREASURE</td>\n      <td>TREASURE</td>\n      <td>0.002497</td>\n      <td>edm</td>\n      <td>0.730</td>\n      <td>0.785</td>\n      <td>0.805977</td>\n      <td>0.0780</td>\n      <td>0.1110</td>\n      <td>0.000000</td>\n      <td>0.1410</td>\n      <td>0.526</td>\n      <td>0.340633</td>\n    </tr>\n    <tr>\n      <th>1355</th>\n      <td>Words</td>\n      <td>Daya</td>\n      <td>0.002629</td>\n      <td>edm</td>\n      <td>0.746</td>\n      <td>0.816</td>\n      <td>0.837544</td>\n      <td>0.0645</td>\n      <td>0.1630</td>\n      <td>0.000000</td>\n      <td>0.0948</td>\n      <td>0.579</td>\n      <td>0.445711</td>\n    </tr>\n    <tr>\n      <th>1162</th>\n      <td>Back To You</td>\n      <td>Selena Gomez</td>\n      <td>0.002641</td>\n      <td>rock</td>\n      <td>0.600</td>\n      <td>0.683</td>\n      <td>0.736090</td>\n      <td>0.0493</td>\n      <td>0.0984</td>\n      <td>0.000001</td>\n      <td>0.1100</td>\n      <td>0.494</td>\n      <td>0.304360</td>\n    </tr>\n    <tr>\n      <th>2074</th>\n      <td>This Feeling</td>\n      <td>The Chainsmokers</td>\n      <td>0.002650</td>\n      <td>rock</td>\n      <td>0.575</td>\n      <td>0.571</td>\n      <td>0.669150</td>\n      <td>0.0439</td>\n      <td>0.0558</td>\n      <td>0.000000</td>\n      <td>0.0912</td>\n      <td>0.449</td>\n      <td>0.322900</td>\n    </tr>\n  </tbody>\n</table>\n</div>",
      "text/plain": "                                             track_name       artist_name  \\\n620             Don't Leave Me Alone (feat. Anne-Marie)      David Guetta   \n2241  Know No Better (feat. Travis Scott, Camila Cab...       Major Lazer   \n2364                           Something Just Like This  The Chainsmokers   \n3337                                       Crystal Snow               BTS   \n2823                                           TRICK IT             TWICE   \n3282                                           Two High         Moon Taxi   \n3003                                        MY TREASURE          TREASURE   \n1355                                              Words              Daya   \n1162                                        Back To You      Selena Gomez   \n2074                                       This Feeling  The Chainsmokers   \n\n      cosine_dist predicted_genre  danceability  energy  loudness  \\\n620      0.001650             edm         0.659   0.738  0.785179   \n2241     0.002189             rap         0.738   0.814  0.812119   \n2364     0.002214            rock         0.617   0.635  0.715701   \n3337     0.002240            rock         0.618   0.768  0.809744   \n2823     0.002298             edm         0.756   0.897  0.829150   \n3282     0.002322            rock         0.649   0.762  0.781863   \n3003     0.002497             edm         0.730   0.785  0.805977   \n1355     0.002629             edm         0.746   0.816  0.837544   \n1162     0.002641            rock         0.600   0.683  0.736090   \n2074     0.002650            rock         0.575   0.571  0.669150   \n\n      speechiness  acousticness  instrumentalness  liveness  valence     tempo  \n620        0.0477        0.1180          0.000000    0.1150    0.481  0.463813  \n2241       0.0999        0.1320          0.000010    0.1260    0.483  0.408995  \n2364       0.0317        0.0498          0.000014    0.1640    0.446  0.310409  \n3337       0.0323        0.1260          0.000000    0.1200    0.483  0.377681  \n2823       0.0780        0.0895          0.000017    0.1400    0.619  0.464355  \n3282       0.0447        0.0852          0.003830    0.1180    0.480  0.335114  \n3003       0.0780        0.1110          0.000000    0.1410    0.526  0.340633  \n1355       0.0645        0.1630          0.000000    0.0948    0.579  0.445711  \n1162       0.0493        0.0984          0.000001    0.1100    0.494  0.304360  \n2074       0.0439        0.0558          0.000000    0.0912    0.449  0.322900  "
     },
     "execution_count": 39,
     "metadata": {},
     "output_type": "execute_result"
    }
   ],
   "source": [
    "#get top 10 nearest to seed_track_data\r\n",
    "recommendation_df = chart_tracks_df.sort_values('cosine_dist')[:10]\r\n",
    "recommendation_df[['track_name','artist_name','cosine_dist','predicted_genre']+feature_cols]"
   ]
  },
  {
   "cell_type": "code",
   "execution_count": 40,
   "metadata": {},
   "outputs": [],
   "source": [
    "# #get top 10 nearest to seed_track_data\r\n",
    "# recommendation_df = chart_tracks_df[chart_tracks_df['predicted_genre']==seed_track_data['predicted_genre']]\\\r\n",
    "#                                     [chart_tracks_df['track_id']!=seed_track_data['track_id']]\\\r\n",
    "#                                     .sort_values('cosine_dist')[:10]\r\n",
    "# recommendation_df[['track_name','artist_name','cosine_dist','predicted_genre']+feature_cols]"
   ]
  },
  {
   "cell_type": "code",
   "execution_count": 41,
   "metadata": {},
   "outputs": [
    {
     "name": "stderr",
     "output_type": "stream",
     "text": [
      "<ipython-input-41-c18aac91a8eb>:5: SettingWithCopyWarning: \n",
      "A value is trying to be set on a copy of a slice from a DataFrame.\n",
      "Try using .loc[row_indexer,col_indexer] = value instead\n",
      "\n",
      "See the caveats in the documentation: https://pandas.pydata.org/pandas-docs/stable/user_guide/indexing.html#returning-a-view-versus-a-copy\n",
      "  chart_tracks_df['cosine_dist_mod'] = chart_tracks_df.apply(lambda x: 1-cosine_similarity(x[cols].values.reshape(1, -1),\\\n"
     ]
    }
   ],
   "source": [
    "#Audio features + predicted genre probabilities\r\n",
    "genre_cols = [col for col in chart_tracks_df.columns if ('predicted_' in col)&('genre' not in col)]\r\n",
    "cols = feature_cols + genre_cols\r\n",
    "chart_tracks_df = chart_tracks_df.dropna() \r\n",
    "chart_tracks_df['cosine_dist_mod'] = chart_tracks_df.apply(lambda x: 1-cosine_similarity(x[cols].values.reshape(1, -1),\\\r\n",
    "                                                                  seed_track_ave[cols].values.reshape(1, -1))\\\r\n",
    "                                                                  .flatten()[0], axis=1)\r\n",
    "recommendation_df = chart_tracks_df.sort_values('cosine_dist_mod')[:100]\r\n",
    "recom_df = recommendation_df[['track_id','track_name','artist_name','cosine_dist_mod','predicted_genre']+cols]"
   ]
  },
  {
   "cell_type": "code",
   "execution_count": 42,
   "metadata": {},
   "outputs": [
    {
     "data": {
      "text/html": "<div>\n<style scoped>\n    .dataframe tbody tr th:only-of-type {\n        vertical-align: middle;\n    }\n\n    .dataframe tbody tr th {\n        vertical-align: top;\n    }\n\n    .dataframe thead th {\n        text-align: right;\n    }\n</style>\n<table border=\"1\" class=\"dataframe\">\n  <thead>\n    <tr style=\"text-align: right;\">\n      <th></th>\n      <th>track_id</th>\n      <th>track_name</th>\n      <th>artist_name</th>\n      <th>cosine_dist_mod</th>\n      <th>predicted_genre</th>\n      <th>danceability</th>\n      <th>energy</th>\n      <th>loudness</th>\n      <th>speechiness</th>\n      <th>acousticness</th>\n      <th>instrumentalness</th>\n      <th>liveness</th>\n      <th>valence</th>\n      <th>tempo</th>\n      <th>predicted_edm_prob</th>\n      <th>predicted_jazz_prob</th>\n      <th>predicted_rap_prob</th>\n      <th>predicted_rock_prob</th>\n    </tr>\n  </thead>\n  <tbody>\n    <tr>\n      <th>635</th>\n      <td>5jyyPsIGM2yqkZN9R3TmvN</td>\n      <td>The Ways (with Swae Lee)</td>\n      <td>Khalid</td>\n      <td>0.006159</td>\n      <td>edm</td>\n      <td>0.727</td>\n      <td>0.720</td>\n      <td>0.753081</td>\n      <td>0.0488</td>\n      <td>0.0626</td>\n      <td>0.000001</td>\n      <td>0.1760</td>\n      <td>0.589</td>\n      <td>0.538451</td>\n      <td>0.2</td>\n      <td>0.2</td>\n      <td>0.5</td>\n      <td>0.1</td>\n    </tr>\n    <tr>\n      <th>1199</th>\n      <td>21jGcNKet2qwijlDFuPiPb</td>\n      <td>Circles</td>\n      <td>Post Malone</td>\n      <td>0.007254</td>\n      <td>edm</td>\n      <td>0.695</td>\n      <td>0.762</td>\n      <td>0.849662</td>\n      <td>0.0395</td>\n      <td>0.1920</td>\n      <td>0.002440</td>\n      <td>0.0863</td>\n      <td>0.553</td>\n      <td>0.415154</td>\n      <td>0.1</td>\n      <td>0.2</td>\n      <td>0.6</td>\n      <td>0.1</td>\n    </tr>\n    <tr>\n      <th>2570</th>\n      <td>6wvlEKW2qxucJSBXYpMV2P</td>\n      <td>TOOTIMETOOTIMETOOTIME</td>\n      <td>The 1975</td>\n      <td>0.007322</td>\n      <td>edm</td>\n      <td>0.662</td>\n      <td>0.827</td>\n      <td>0.751648</td>\n      <td>0.0624</td>\n      <td>0.1660</td>\n      <td>0.016500</td>\n      <td>0.0860</td>\n      <td>0.477</td>\n      <td>0.384216</td>\n      <td>0.2</td>\n      <td>0.1</td>\n      <td>0.6</td>\n      <td>0.1</td>\n    </tr>\n    <tr>\n      <th>2711</th>\n      <td>5SkQThmerj0t27qPYYHVGf</td>\n      <td>Gravity</td>\n      <td>EXO</td>\n      <td>0.007648</td>\n      <td>rap</td>\n      <td>0.693</td>\n      <td>0.864</td>\n      <td>0.855067</td>\n      <td>0.0807</td>\n      <td>0.0711</td>\n      <td>0.000000</td>\n      <td>0.0961</td>\n      <td>0.695</td>\n      <td>0.402349</td>\n      <td>0.2</td>\n      <td>0.2</td>\n      <td>0.5</td>\n      <td>0.1</td>\n    </tr>\n    <tr>\n      <th>2230</th>\n      <td>6t44iU80A0h8WQ7vc4OoRj</td>\n      <td>Fake Happy</td>\n      <td>Paramore</td>\n      <td>0.008544</td>\n      <td>rap</td>\n      <td>0.734</td>\n      <td>0.626</td>\n      <td>0.760082</td>\n      <td>0.0458</td>\n      <td>0.0760</td>\n      <td>0.000007</td>\n      <td>0.1680</td>\n      <td>0.440</td>\n      <td>0.282966</td>\n      <td>0.2</td>\n      <td>0.1</td>\n      <td>0.5</td>\n      <td>0.2</td>\n    </tr>\n  </tbody>\n</table>\n</div>",
      "text/plain": "                    track_id                track_name  artist_name  \\\n635   5jyyPsIGM2yqkZN9R3TmvN  The Ways (with Swae Lee)       Khalid   \n1199  21jGcNKet2qwijlDFuPiPb                   Circles  Post Malone   \n2570  6wvlEKW2qxucJSBXYpMV2P     TOOTIMETOOTIMETOOTIME     The 1975   \n2711  5SkQThmerj0t27qPYYHVGf                   Gravity          EXO   \n2230  6t44iU80A0h8WQ7vc4OoRj                Fake Happy     Paramore   \n\n      cosine_dist_mod predicted_genre  danceability  energy  loudness  \\\n635          0.006159             edm         0.727   0.720  0.753081   \n1199         0.007254             edm         0.695   0.762  0.849662   \n2570         0.007322             edm         0.662   0.827  0.751648   \n2711         0.007648             rap         0.693   0.864  0.855067   \n2230         0.008544             rap         0.734   0.626  0.760082   \n\n      speechiness  acousticness  instrumentalness  liveness  valence  \\\n635        0.0488        0.0626          0.000001    0.1760    0.589   \n1199       0.0395        0.1920          0.002440    0.0863    0.553   \n2570       0.0624        0.1660          0.016500    0.0860    0.477   \n2711       0.0807        0.0711          0.000000    0.0961    0.695   \n2230       0.0458        0.0760          0.000007    0.1680    0.440   \n\n         tempo  predicted_edm_prob  predicted_jazz_prob  predicted_rap_prob  \\\n635   0.538451                 0.2                  0.2                 0.5   \n1199  0.415154                 0.1                  0.2                 0.6   \n2570  0.384216                 0.2                  0.1                 0.6   \n2711  0.402349                 0.2                  0.2                 0.5   \n2230  0.282966                 0.2                  0.1                 0.5   \n\n      predicted_rock_prob  \n635                   0.1  \n1199                  0.1  \n2570                  0.1  \n2711                  0.1  \n2230                  0.2  "
     },
     "execution_count": 42,
     "metadata": {},
     "output_type": "execute_result"
    }
   ],
   "source": [
    "recom_df.head()"
   ]
  },
  {
   "cell_type": "code",
   "execution_count": 43,
   "metadata": {},
   "outputs": [
    {
     "data": {
      "text/plain": "Index(['track_id', 'track_name', 'artist_name', 'cosine_dist_mod',\n       'predicted_genre', 'danceability', 'energy', 'loudness', 'speechiness',\n       'acousticness', 'instrumentalness', 'liveness', 'valence', 'tempo',\n       'predicted_edm_prob', 'predicted_jazz_prob', 'predicted_rap_prob',\n       'predicted_rock_prob'],\n      dtype='object')"
     },
     "execution_count": 43,
     "metadata": {},
     "output_type": "execute_result"
    }
   ],
   "source": [
    "recom_df.columns\n"
   ]
  },
  {
   "cell_type": "code",
   "execution_count": 44,
   "metadata": {},
   "outputs": [
    {
     "data": {
      "text/plain": "array(['5jyyPsIGM2yqkZN9R3TmvN', '21jGcNKet2qwijlDFuPiPb',\n       '6wvlEKW2qxucJSBXYpMV2P', '5SkQThmerj0t27qPYYHVGf',\n       '6t44iU80A0h8WQ7vc4OoRj', '7HC3sppue0re7HPfo5zscF',\n       '5xrtzzzikpG3BLbo4q1Yul', '7cLrrJ1Dk6WAQyDIj9j26A',\n       '6G7DuXoSGeAf6BZivJdEjF', '0uUNN1nSoUx1A4fkDCWDQ7',\n       '6b8Be6ljOzmkOmFslEb23P', '5GkQIP5mWPi4KZLLXeuFTT',\n       '5uHl2eYaITSX6xEX8bmaXy', '5ubwXXOsH9bUhZsQ0Cybha',\n       '4nYsmWkuTaowTMy4gskmBw', '4lqT9X8AYH3svpFQlEPicl',\n       '05mAIVLkIWc2d1UBYZBCp8', '1LiNP5q2thWScdvCRkJ584',\n       '24NuEDgyRIljwSyY0lsr7b', '3DD2VHxnv7C9Hew8s7Zgjf',\n       '2JZPlXE8c0oLZoCsqFFmgo', '3Z8FwOEN59mRMxDCtb8N0A',\n       '5px6upUHM3fhOP621Edp4V', '6t2ubAB4iSYOuIpRAOGd4t',\n       '7fwXWKdDNI5IutOMc5OKYw', '3h34cQPPddk4x9cluPIAvv',\n       '5sdb5pMhcK44SSLsj1moUh', '3ryjLm3oupIjJFGc39naNi',\n       '4Tvw0lweq9l2JPQKFbpbBQ', '1Zyd6zQnC6XIIzmg3hP7Ot',\n       '5N4erncE7kuUccm7zEmwzk', '11KJSRSgaDxqydKYiD2Jew',\n       '3Ytr1SUCUi6J3L9dRFx5iH', '4wJKGMBKvoyYhGo7bXVfTd',\n       '0WCEaydwN65cvwaW8aqptF', '4lUnFLtn8w3W76FiYDRzmO',\n       '6uiz2UTi8yaPVd9A1OxxTW', '7EmGUiUaOSGDnUUQUDrOXC',\n       '56JyMaElW79S7TDWh1Zw1m', '6ceLbOqD2zrnUollgXkKMn',\n       '5NNlUMcOEOdoOIwwaWXv0k', '4D5Ode2OfZMxIwQyvmhUe8',\n       '0mUfY2PdHs57EG15zj1dRj', '69bp2EbF7Q2rqc5N3ylezZ',\n       '27UcQ6dAvQrgH9C880rCM3', '6WrI0LAC5M1Rw2MnX2ZvEg',\n       '6uAFJ75WDAoAPyCWJAtvks', '7nAfXgeHfDO50upcOjJOaq',\n       '7r6bu5Xd0q2TK1QQMduxb8', '0Wv6HtcBNex6lwPugykWCd',\n       '0SvxydoxEEkXt9aMAqTfpB', '1349a1cfv3J1bb0qGch29z',\n       '5RUUkFNqH3GRKHg1xjprOb', '2tdq0CeAGSfhI2l4Gwkvgx',\n       '1KtU0WCq472KzqCXgMOxkS', '78rIJddV4X0HkNAInEcYde',\n       '3Jc6Bdhc4QDQwal1urpuNk', '5CLGzJsGqhCEECcpnFQA8x',\n       '6uFsE1JgZ20EXyU0JQZbUR', '0KoiMHhqKLoL4xM54rcWYY',\n       '5Ek40FyMPprcvtyZDjqylX', '5pvVAwQbuFoR7LkcicrKnk',\n       '542Xd5qDeLBvgXZXhfW7LE', '41vPeGMYDN84rC9FSv4BTl',\n       '184XtKkzoAl83quIarUAJP', '4EAV2cKiqKP5UPZmY6dejk',\n       '4ZUfbHQOBeEOyf6EArWXA3', '3u1S1OmAUhx5DRlLrXqyp3',\n       '0CcQNd8CINkwQfe1RDtGV6', '0dA2Mk56wEzDgegdC6R17g',\n       '32h6yQGn4oAhZ0HRsTMX26', '3wDW4OofLMg3fL2BihWzAp',\n       '0tBbt8CrmxbjRP0pueQkyU', '3k7SKhwbvE2lAisLx3jZWl',\n       '67BbMuItfrHmaNqDxBPF7c', '2Psdx1VyBJOwuuHgekmncc',\n       '4Ws314Ylb27BVsvlZOy30C', '0GxgZ6u2fZAsogiMs1rgMl',\n       '0WdR2AyLW1Drd3OUdwezM0', '2YpeDb67231RjR0MgVLzsG',\n       '2naEVOadudtXHwtZNfjMDM', '5PYQUBXc7NYeI1obMKSJK0',\n       '7bad461siaxECNlaYsmIo6', '2dpaYNEQHiRxtZbfNsse99',\n       '3TDUktzfYXMWjkWqwoT5F1', '3bi5bTs4vAyOqpKIZ2dP1N',\n       '4Q6GncsjUTwWoQO6nsdyA6', '60APt5N2NRaKWf5xzJdzyC',\n       '4xlrALxuaCf9yZBHJeTSG6', '0RUTnY2B3s05fZuCHsNaUP',\n       '3OaBCFROgrLRbZGCFP6E3M', '4GEQd6D1NeNjpf0pbOgJSO',\n       '04JL2liXXV9B9coeGuUsPw', '47OVNnZJzIkrsEiZ4n187p',\n       '3H7ihDc1dqLriiWXwsc2po', '0NiXXAI876aGImAd6rTj8w',\n       '6wV12xIUb8oFY7lBy4KuQe', '1YLSTCHPgTtXjG06sljS85',\n       '71bBFbfn2OBK5QwUJSLS44', '4e9rEIp7jCIi8gIovPWpGq'], dtype=object)"
     },
     "execution_count": 44,
     "metadata": {},
     "output_type": "execute_result"
    }
   ],
   "source": [
    "recom_df['track_id'].values\n"
   ]
  },
  {
   "cell_type": "code",
   "execution_count": 45,
   "metadata": {},
   "outputs": [
    {
     "data": {
      "text/plain": "array(['The Ways (with Swae Lee)', 'Circles', 'TOOTIMETOOTIMETOOTIME',\n       'Gravity', 'Fake Happy', 'You Make Me', 'LILAC',\n       'Cry About It Later', '달라달라 DALLA DALLA', 'So Am I', '24K Magic',\n       'motive (with Doja Cat)', 'Adios', 'Level Up',\n       'What Lovers Do (feat. SZA)', 'DO WHAT WE LIKE', '1999',\n       'UP NO MORE', 'Black Swan', 'Not Shy', 'Dynamite - Poolside Remix',\n       'Be Kind (with Halsey)', 'Physical', 'Cake - Challenge Version',\n       'Mi Gente (feat. Beyoncé)', 'Zombie - English Ver.',\n       'I Found You (with Calvin Harris)', 'dimple',\n       \"Better When You're Gone\", \"As If It's Your Last\",\n       'Electricity (with Dua Lipa)', 'Too Good',\n       'Know No Better (feat. Travis Scott, Camila Cabello & Quavo)',\n       'WANNABE', 'History', 'Wait', \"i'm so tired...\", 'Wolves',\n       'On A Roll', 'Dynamite - Bedroom Remix', 'Cold', 'Lil’ Touch',\n       'Laro', 'Sorry', 'Love You Different (feat. BEAM)',\n       \"Don't Start Now\", 'Good In Bed', 'Talking to Myself',\n       'Dynamite - Tropical Remix', 'SHADOW',\n       'Wait (feat. A Boogie Wit da Hoodie)', 'Almost Love', 'Old Me',\n       'Best Of Me', \"That's What I Like - Alan Walker Remix\",\n       'Call On Me - Ryan Riback Extended Remix', 'Tears & Tantrums',\n       'These Days (feat. Jess Glynne, Macklemore & Dan Caplen)',\n       'Look What You Made Me Do',\n       'Taki Taki (feat. Selena Gomez, Ozuna & Cardi B)', 'What is Love?',\n       'Obsession (feat. Jon Bellion)', 'Obsession (feat. Jon Bellion)',\n       'Diamond', 'YES or YES', 'Everyday', 'Bed (feat. Ariana Grande)',\n       'Rise', 'Believer', 'Stay (with Alessia Cara)', 'CROWN',\n       'TRICK IT', 'Wolves', 'Upuan', 'WHISTLE - KR Ver.', 'RAINBOW',\n       'Lovesick Girls', 'Breath', 'everytime', 'Old Town Road - Remix',\n       'Forever Young', 'Never Really Over', 'Love Story', 'Happier',\n       'Lights', 'As Long as You Love Me', 'In My Prison',\n       'Heatstroke (feat. Young Thug, Pharrell Williams & Ariana Grande)',\n       'Mama', 'Alien', 'You Belong With Me', 'Mama',\n       'What Lovers Do (feat. SZA)', 'Mama', 'Breaking Me', 'Mama',\n       'Sooner Or Later', 'Know Love', 'More Than You Know',\n       'Control (feat. Bryce Vine & Dan Caplen)'], dtype=object)"
     },
     "execution_count": 45,
     "metadata": {},
     "output_type": "execute_result"
    }
   ],
   "source": [
    "recom_df['track_name'].values"
   ]
  },
  {
   "cell_type": "code",
   "execution_count": 46,
   "metadata": {},
   "outputs": [
    {
     "data": {
      "text/plain": "array(['Khalid', 'Post Malone', 'The 1975', 'EXO', 'Paramore', 'Avicii',\n       'IU', 'Katy Perry', 'ITZY', 'Ava Max', 'Bruno Mars',\n       'Ariana Grande', 'EVERGLOW', 'Ciara', 'Maroon 5', 'TWICE',\n       'Charli XCX', 'TWICE', 'BTS', 'ITZY', 'BTS', 'Marshmello',\n       'Dua Lipa', 'Flo Rida', 'J Balvin', 'DAY6', 'benny blanco', 'BTS',\n       'David Guetta', 'BLACKPINK', 'Silk City', 'Drake', 'Major Lazer',\n       'ITZY', 'Olivia Holt', 'Maroon 5', 'Lauv', 'Selena Gomez',\n       'Ashley O', 'BTS', 'Maroon 5', \"Girls' Generation-Oh!GG\",\n       'Autotelic', 'Justin Bieber', 'Justin Bieber', 'Dua Lipa',\n       'Dua Lipa', 'Linkin Park', 'BTS', 'TWICE', 'Maroon 5',\n       'Sabrina Carpenter', '5 Seconds of Summer', 'BTS', 'Bruno Mars',\n       'Starley', 'XYLØ', 'Rudimental', 'Taylor Swift', 'DJ Snake',\n       'TWICE', 'Vice', 'Vice', 'Red Velvet - IRENE & SEULGI', 'TWICE',\n       'Logic', 'Nicki Minaj', 'Jonas Blue', 'Imagine Dragons', 'Zedd',\n       'TOMORROW X TOGETHER', 'TWICE', 'Selena Gomez', 'Ben&Ben',\n       'BLACKPINK', 'TWICE', 'BLACKPINK', 'GOT7', 'Ariana Grande',\n       'Lil Nas X', 'BLACKPINK', 'Katy Perry', 'Taylor Swift',\n       'Marshmello', 'BTS', 'Backstreet Boys', 'IV Of Spades',\n       'Calvin Harris', 'Jonas Blue', 'Sabrina Carpenter', 'Taylor Swift',\n       'Jonas Blue', 'Maroon 5', 'Jonas Blue', 'Topic', 'Jonas Blue',\n       'Aaron Carter', 'DVBBS', 'Axwell /\\\\ Ingrosso', 'Feder'],\n      dtype=object)"
     },
     "execution_count": 46,
     "metadata": {},
     "output_type": "execute_result"
    }
   ],
   "source": [
    "recom_df['artist_name'].values"
   ]
  },
  {
   "cell_type": "code",
   "execution_count": 47,
   "metadata": {},
   "outputs": [],
   "source": [
    "colab_artists = recom_df['artist_name'].values"
   ]
  },
  {
   "cell_type": "code",
   "execution_count": 48,
   "metadata": {},
   "outputs": [
    {
     "data": {
      "text/plain": "Index(['track_id', 'track_name', 'artist_id', 'artist_name', 'album_id',\n       'duration', 'release_date', 'popularity', 'danceability', 'energy',\n       'key', 'loudness', 'mode', 'speechiness', 'acousticness',\n       'instrumentalness', 'liveness', 'valence', 'tempo',\n       'predicted_genre_id', 'predicted_genre', 'predicted_genre_prob',\n       'predicted_edm_prob', 'predicted_jazz_prob', 'predicted_rap_prob',\n       'predicted_rock_prob', 'cosine_dist', 'cosine_dist_mod'],\n      dtype='object')"
     },
     "execution_count": 48,
     "metadata": {},
     "output_type": "execute_result"
    }
   ],
   "source": [
    "chart_tracks_df.columns"
   ]
  },
  {
   "cell_type": "code",
   "execution_count": 49,
   "metadata": {},
   "outputs": [
    {
     "data": {
      "text/html": "<div>\n<style scoped>\n    .dataframe tbody tr th:only-of-type {\n        vertical-align: middle;\n    }\n\n    .dataframe tbody tr th {\n        vertical-align: top;\n    }\n\n    .dataframe thead th {\n        text-align: right;\n    }\n</style>\n<table border=\"1\" class=\"dataframe\">\n  <thead>\n    <tr style=\"text-align: right;\">\n      <th></th>\n      <th>position</th>\n      <th>track_id</th>\n      <th>track_name</th>\n      <th>artist</th>\n      <th>streams</th>\n      <th>artist_id</th>\n      <th>artist_name</th>\n      <th>album_id</th>\n      <th>duration</th>\n      <th>release_date</th>\n      <th>...</th>\n      <th>energy</th>\n      <th>key</th>\n      <th>loudness</th>\n      <th>mode</th>\n      <th>speechiness</th>\n      <th>acousticness</th>\n      <th>instrumentalness</th>\n      <th>liveness</th>\n      <th>valence</th>\n      <th>tempo</th>\n    </tr>\n    <tr>\n      <th>date</th>\n      <th></th>\n      <th></th>\n      <th></th>\n      <th></th>\n      <th></th>\n      <th></th>\n      <th></th>\n      <th></th>\n      <th></th>\n      <th></th>\n      <th></th>\n      <th></th>\n      <th></th>\n      <th></th>\n      <th></th>\n      <th></th>\n      <th></th>\n      <th></th>\n      <th></th>\n      <th></th>\n      <th></th>\n    </tr>\n  </thead>\n  <tbody>\n    <tr>\n      <th>2017-01-01</th>\n      <td>1</td>\n      <td>0kN8xEmgMW9mh7UmDYHlJP</td>\n      <td>Versace on the Floor</td>\n      <td>Bruno Mars</td>\n      <td>185236</td>\n      <td>0du5cEVh5yTK9QJze8zA0C</td>\n      <td>Bruno Mars</td>\n      <td>4PgleR09JVnm3zY1fW3XBA</td>\n      <td>261240</td>\n      <td>2016-11-17</td>\n      <td>...</td>\n      <td>0.574</td>\n      <td>2.0</td>\n      <td>-6.209</td>\n      <td>1.0</td>\n      <td>0.0454</td>\n      <td>0.196</td>\n      <td>0.00000</td>\n      <td>0.0830</td>\n      <td>0.301</td>\n      <td>174.152</td>\n    </tr>\n    <tr>\n      <th>2017-01-01</th>\n      <td>2</td>\n      <td>5uCax9HTNlzGybIStD3vDh</td>\n      <td>Say You Won't Let Go</td>\n      <td>James Arthur</td>\n      <td>180552</td>\n      <td>4IWBUUAFIplrNtaOHcJPRM</td>\n      <td>James Arthur</td>\n      <td>7oiJYvEJHsmYtrgviAVIBD</td>\n      <td>211466</td>\n      <td>2016-10-28</td>\n      <td>...</td>\n      <td>0.557</td>\n      <td>10.0</td>\n      <td>-7.398</td>\n      <td>1.0</td>\n      <td>0.0590</td>\n      <td>0.695</td>\n      <td>0.00000</td>\n      <td>0.0902</td>\n      <td>0.494</td>\n      <td>85.043</td>\n    </tr>\n    <tr>\n      <th>2017-01-01</th>\n      <td>3</td>\n      <td>7BKLCZ1jbUBVqRi2FVlTVw</td>\n      <td>Closer</td>\n      <td>The Chainsmokers</td>\n      <td>158720</td>\n      <td>69GGBxA162lTqCwzJG5jLp</td>\n      <td>The Chainsmokers</td>\n      <td>0rSLgV8p5FzfnqlEk4GzxE</td>\n      <td>244960</td>\n      <td>2016-07-29</td>\n      <td>...</td>\n      <td>0.524</td>\n      <td>8.0</td>\n      <td>-5.599</td>\n      <td>1.0</td>\n      <td>0.0338</td>\n      <td>0.414</td>\n      <td>0.00000</td>\n      <td>0.1110</td>\n      <td>0.661</td>\n      <td>95.010</td>\n    </tr>\n    <tr>\n      <th>2017-01-01</th>\n      <td>4</td>\n      <td>2rizacJSyD9S1IQUxUxnsK</td>\n      <td>All We Know</td>\n      <td>The Chainsmokers</td>\n      <td>130874</td>\n      <td>69GGBxA162lTqCwzJG5jLp</td>\n      <td>The Chainsmokers</td>\n      <td>0xmaV6EtJ4M3ebZUPRnhyb</td>\n      <td>194080</td>\n      <td>2016-09-29</td>\n      <td>...</td>\n      <td>0.586</td>\n      <td>0.0</td>\n      <td>-8.821</td>\n      <td>1.0</td>\n      <td>0.0307</td>\n      <td>0.097</td>\n      <td>0.00272</td>\n      <td>0.1150</td>\n      <td>0.296</td>\n      <td>90.000</td>\n    </tr>\n    <tr>\n      <th>2017-01-01</th>\n      <td>5</td>\n      <td>5MFzQMkrl1FOOng9tq6R9r</td>\n      <td>Don't Wanna Know</td>\n      <td>Maroon 5</td>\n      <td>129656</td>\n      <td>04gDigrS5kc9YWfZHwBETP</td>\n      <td>Maroon 5</td>\n      <td>0fvTn3WXF39kQs9i3bnNpP</td>\n      <td>214480</td>\n      <td>2016-10-11</td>\n      <td>...</td>\n      <td>0.623</td>\n      <td>7.0</td>\n      <td>-6.126</td>\n      <td>1.0</td>\n      <td>0.0800</td>\n      <td>0.338</td>\n      <td>0.00000</td>\n      <td>0.0975</td>\n      <td>0.447</td>\n      <td>100.048</td>\n    </tr>\n  </tbody>\n</table>\n<p>5 rows × 22 columns</p>\n</div>",
      "text/plain": "            position                track_id            track_name  \\\ndate                                                                 \n2017-01-01         1  0kN8xEmgMW9mh7UmDYHlJP  Versace on the Floor   \n2017-01-01         2  5uCax9HTNlzGybIStD3vDh  Say You Won't Let Go   \n2017-01-01         3  7BKLCZ1jbUBVqRi2FVlTVw                Closer   \n2017-01-01         4  2rizacJSyD9S1IQUxUxnsK           All We Know   \n2017-01-01         5  5MFzQMkrl1FOOng9tq6R9r      Don't Wanna Know   \n\n                      artist  streams               artist_id  \\\ndate                                                            \n2017-01-01        Bruno Mars   185236  0du5cEVh5yTK9QJze8zA0C   \n2017-01-01      James Arthur   180552  4IWBUUAFIplrNtaOHcJPRM   \n2017-01-01  The Chainsmokers   158720  69GGBxA162lTqCwzJG5jLp   \n2017-01-01  The Chainsmokers   130874  69GGBxA162lTqCwzJG5jLp   \n2017-01-01          Maroon 5   129656  04gDigrS5kc9YWfZHwBETP   \n\n                 artist_name                album_id  duration release_date  \\\ndate                                                                          \n2017-01-01        Bruno Mars  4PgleR09JVnm3zY1fW3XBA    261240   2016-11-17   \n2017-01-01      James Arthur  7oiJYvEJHsmYtrgviAVIBD    211466   2016-10-28   \n2017-01-01  The Chainsmokers  0rSLgV8p5FzfnqlEk4GzxE    244960   2016-07-29   \n2017-01-01  The Chainsmokers  0xmaV6EtJ4M3ebZUPRnhyb    194080   2016-09-29   \n2017-01-01          Maroon 5  0fvTn3WXF39kQs9i3bnNpP    214480   2016-10-11   \n\n            ...  energy   key  loudness  mode  speechiness  acousticness  \\\ndate        ...                                                            \n2017-01-01  ...   0.574   2.0    -6.209   1.0       0.0454         0.196   \n2017-01-01  ...   0.557  10.0    -7.398   1.0       0.0590         0.695   \n2017-01-01  ...   0.524   8.0    -5.599   1.0       0.0338         0.414   \n2017-01-01  ...   0.586   0.0    -8.821   1.0       0.0307         0.097   \n2017-01-01  ...   0.623   7.0    -6.126   1.0       0.0800         0.338   \n\n            instrumentalness  liveness  valence    tempo  \ndate                                                      \n2017-01-01           0.00000    0.0830    0.301  174.152  \n2017-01-01           0.00000    0.0902    0.494   85.043  \n2017-01-01           0.00000    0.1110    0.661   95.010  \n2017-01-01           0.00272    0.1150    0.296   90.000  \n2017-01-01           0.00000    0.0975    0.447  100.048  \n\n[5 rows x 22 columns]"
     },
     "execution_count": 49,
     "metadata": {},
     "output_type": "execute_result"
    }
   ],
   "source": [
    "daily_charts = pd.read_csv('data/spotify_daily_charts.csv')\n",
    "daily_tracks_df = pd.read_csv('data/spotify_daily_charts_tracks.csv')\n",
    "#merge the charts and tracks dataset\n",
    "merged_df = daily_charts.merge(daily_tracks_df, on='track_id', how='left')\n",
    "merged_df = merged_df.drop(columns='track_name_y')\n",
    "merged_df = merged_df.rename(columns={'track_name_x':'track_name'})\n",
    "merged_df = merged_df.set_index('date')\n",
    "merged_df.head()"
   ]
  },
  {
   "cell_type": "code",
   "execution_count": 50,
   "metadata": {},
   "outputs": [
    {
     "data": {
      "text/plain": "Index(['position', 'track_id', 'track_name', 'artist', 'streams', 'artist_id',\n       'artist_name', 'album_id', 'duration', 'release_date', 'popularity',\n       'danceability', 'energy', 'key', 'loudness', 'mode', 'speechiness',\n       'acousticness', 'instrumentalness', 'liveness', 'valence', 'tempo'],\n      dtype='object')"
     },
     "execution_count": 50,
     "metadata": {},
     "output_type": "execute_result"
    }
   ],
   "source": [
    "merged_df.columns"
   ]
  },
  {
   "cell_type": "code",
   "execution_count": 51,
   "metadata": {},
   "outputs": [],
   "source": [
    "colab_artists_df = merged_df[merged_df['artist'].isin(colab_artists)].drop_duplicates(['track_name', 'track_id'])"
   ]
  },
  {
   "cell_type": "code",
   "execution_count": 52,
   "metadata": {},
   "outputs": [
    {
     "data": {
      "text/plain": "artist\nTaylor Swift     19128119\nBTS               9778960\nBLACKPINK         7235273\nAriana Grande     5453797\nTWICE             3611487\nLauv              3491792\nJustin Bieber     2343168\nMaroon 5          1969627\nPost Malone       1921911\nDrake             1836498\nName: streams, dtype: int64"
     },
     "execution_count": 52,
     "metadata": {},
     "output_type": "execute_result"
    }
   ],
   "source": [
    "colab_artists_df.groupby('artist')['streams'].sum().sort_values(ascending=False)[:10] \r\n",
    "#top 10 nearest and highest streams"
   ]
  },
  {
   "cell_type": "code",
   "execution_count": 56,
   "metadata": {},
   "outputs": [
    {
     "data": {
      "text/plain": "694                  Feder\n2668    Axwell /\\ Ingrosso\n735                  DVBBS\n3380          Aaron Carter\n3244            Jonas Blue\n1230                 Topic\n3288            Jonas Blue\n3394              Maroon 5\n3295            Jonas Blue\n964           Taylor Swift\n2790     Sabrina Carpenter\n3283            Jonas Blue\n1804         Calvin Harris\n1025          IV Of Spades\n1347       Backstreet Boys\n1245                   BTS\n2981            Marshmello\n1198          Taylor Swift\n2654            Katy Perry\n648              BLACKPINK\nName: artist_name, dtype: object"
     },
     "execution_count": 56,
     "metadata": {},
     "output_type": "execute_result"
    }
   ],
   "source": [
    "recom_df.sort_values(by='cosine_dist_mod', ascending = False)['artist_name'][:20] #top 10 nearest"
   ]
  },
  {
   "cell_type": "code",
   "execution_count": 54,
   "metadata": {},
   "outputs": [
    {
     "data": {
      "text/plain": "array(['Control (feat. Bryce Vine & Dan Caplen)', 'More Than You Know',\n       'Know Love', 'Sooner Or Later', 'Mama', 'Breaking Me', 'Mama',\n       'What Lovers Do (feat. SZA)', 'Mama', 'You Belong With Me'],\n      dtype=object)"
     },
     "execution_count": 54,
     "metadata": {},
     "output_type": "execute_result"
    }
   ],
   "source": [
    "recom_df.sort_values(by='cosine_dist_mod', ascending = False)['track_name'][:10].values"
   ]
  },
  {
   "cell_type": "code",
   "execution_count": 55,
   "metadata": {},
   "outputs": [
    {
     "data": {
      "text/plain": "array(['5jyyPsIGM2yqkZN9R3TmvN', '21jGcNKet2qwijlDFuPiPb',\n       '6wvlEKW2qxucJSBXYpMV2P', '5SkQThmerj0t27qPYYHVGf',\n       '6t44iU80A0h8WQ7vc4OoRj', '7HC3sppue0re7HPfo5zscF',\n       '5xrtzzzikpG3BLbo4q1Yul', '7cLrrJ1Dk6WAQyDIj9j26A',\n       '6G7DuXoSGeAf6BZivJdEjF', '0uUNN1nSoUx1A4fkDCWDQ7'], dtype=object)"
     },
     "execution_count": 55,
     "metadata": {},
     "output_type": "execute_result"
    }
   ],
   "source": [
    "recom_df['track_id'][:10].values\n"
   ]
  },
  {
   "cell_type": "code",
   "execution_count": null,
   "metadata": {},
   "outputs": [],
   "source": []
  }
 ],
 "metadata": {
  "kernelspec": {
   "display_name": "Python 3.9.4 64-bit ('SpotifyRecom': conda)",
   "name": "python394jvsc74a57bd0037538a3c14887adb582c4599b6840ec1ccaa5debbe007b4bff9199dc4a46515"
  },
  "language_info": {
   "codemirror_mode": {
    "name": "ipython",
    "version": 3
   },
   "file_extension": ".py",
   "mimetype": "text/x-python",
   "name": "python",
   "nbconvert_exporter": "python",
   "pygments_lexer": "ipython3",
   "version": "3.9.4"
  },
  "orig_nbformat": 3
 },
 "nbformat": 4,
 "nbformat_minor": 2
}